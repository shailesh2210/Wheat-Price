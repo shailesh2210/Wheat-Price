{
 "cells": [
  {
   "cell_type": "markdown",
   "id": "df2461bc",
   "metadata": {},
   "source": [
    "## Project Goal: Predictive Modeling for Wheat Market Prices\n",
    "\n",
    "The primary goal of this machine learning project is to develop a robust predictive model for the daily market prices of wheat, focusing on variety-wise trends across different states. Leveraging the Variety-wise Daily Market Prices Data of Wheat obtained from the AGMARKNET Portal, the project aims to accomplish the following objectives:"
   ]
  },
  {
   "cell_type": "markdown",
   "id": "a4a70f39",
   "metadata": {},
   "source": [
    "### Project Workflow :\n",
    "    - Data Collection\n",
    "    - Exploratory Data Analysis (EDA)\n",
    "    - Data Cleaning and Preprocessing\n",
    "    - Feature Engineering\n",
    "    - Model Building\n",
    "    - Model Evaluation\n",
    "    - Deployment"
   ]
  },
  {
   "cell_type": "markdown",
   "id": "20238631",
   "metadata": {},
   "source": [
    "### Dataset Description:\n",
    "   - state  : Categorical variable representing the Indian states where wheat prices are recorded.\n",
    "   - district : Categorical variable indicating the specific districts within each state.\n",
    "   - market : Categorical variable specifying the markets or trading centers where wheat prices are observed.\n",
    "   - commodity : Categorical variable indicating the type of commodity, which, in this case, is wheat.\n",
    "   - variety : Categorical variable representing the different varieties of wheat available in the market.\n",
    "   - arrival_date : Temporal variable indicating the date on which the wheat arrived in the market.\n",
    "   - min_price : Numeric variable representing the minimum wholesale price of the respective wheat variety on a given day.\n",
    "   - max_price : Numeric variable representing the maximum wholesale price of the respective wheat variety on a given day.\n",
    "   - modal_price : Numeric variable representing the modal or most frequently occurring wholesale price of the respective     wheat variety on a given day.\n",
    "   - update_date : Temporal variable indicating the date when the market price data was last updated.\n",
    "   \n",
    "Dataset link : https://data.gov.in/catalog/variety-wise-daily-market-prices-data-wheat"
   ]
  },
  {
   "cell_type": "code",
   "execution_count": 1,
   "id": "8f9e683d",
   "metadata": {},
   "outputs": [],
   "source": [
    "import pandas as pd\n",
    "import numpy as np\n",
    "import seaborn as sns\n",
    "import matplotlib.pyplot as plt\n",
    "from sklearn.preprocessing import LabelEncoder\n",
    "from sklearn.preprocessing import StandardScaler\n",
    "from sklearn.model_selection import train_test_split\n",
    "from sklearn.linear_model import LinearRegression\n",
    "from sklearn.tree import DecisionTreeRegressor\n",
    "from sklearn.ensemble import RandomForestRegressor\n",
    "from sklearn.model_selection import GridSearchCV\n",
    "from sklearn.metrics import accuracy_score\n",
    "from warnings import filterwarnings\n",
    "filterwarnings(\"ignore\")"
   ]
  },
  {
   "cell_type": "code",
   "execution_count": 2,
   "id": "ecd7abac",
   "metadata": {},
   "outputs": [],
   "source": [
    "df = pd.read_csv(\"Wheat_2024.csv\")"
   ]
  },
  {
   "cell_type": "code",
   "execution_count": 3,
   "id": "0bca8d22",
   "metadata": {},
   "outputs": [
    {
     "data": {
      "text/html": [
       "<div>\n",
       "<style scoped>\n",
       "    .dataframe tbody tr th:only-of-type {\n",
       "        vertical-align: middle;\n",
       "    }\n",
       "\n",
       "    .dataframe tbody tr th {\n",
       "        vertical-align: top;\n",
       "    }\n",
       "\n",
       "    .dataframe thead th {\n",
       "        text-align: right;\n",
       "    }\n",
       "</style>\n",
       "<table border=\"1\" class=\"dataframe\">\n",
       "  <thead>\n",
       "    <tr style=\"text-align: right;\">\n",
       "      <th></th>\n",
       "      <th>state</th>\n",
       "      <th>district</th>\n",
       "      <th>market</th>\n",
       "      <th>commodity</th>\n",
       "      <th>variety</th>\n",
       "      <th>arrival_date</th>\n",
       "      <th>min_price</th>\n",
       "      <th>max_price</th>\n",
       "      <th>modal_price</th>\n",
       "      <th>update_date</th>\n",
       "    </tr>\n",
       "  </thead>\n",
       "  <tbody>\n",
       "    <tr>\n",
       "      <th>0</th>\n",
       "      <td>Bihar</td>\n",
       "      <td>Muzaffarpur</td>\n",
       "      <td>Muzaffarpur</td>\n",
       "      <td>Wheat</td>\n",
       "      <td>147 Average</td>\n",
       "      <td>01/01/2024</td>\n",
       "      <td>2500</td>\n",
       "      <td>2590</td>\n",
       "      <td>2550.0</td>\n",
       "      <td>2024-01-02</td>\n",
       "    </tr>\n",
       "    <tr>\n",
       "      <th>1</th>\n",
       "      <td>Gujarat</td>\n",
       "      <td>Amreli</td>\n",
       "      <td>Bagasara</td>\n",
       "      <td>Wheat</td>\n",
       "      <td>Lokwan Gujrat</td>\n",
       "      <td>02/01/2024</td>\n",
       "      <td>2370</td>\n",
       "      <td>2700</td>\n",
       "      <td>2535.0</td>\n",
       "      <td>2024-01-02</td>\n",
       "    </tr>\n",
       "    <tr>\n",
       "      <th>2</th>\n",
       "      <td>Gujarat</td>\n",
       "      <td>Anand</td>\n",
       "      <td>Khambhat(Grain Market)</td>\n",
       "      <td>Wheat</td>\n",
       "      <td>Other</td>\n",
       "      <td>02/01/2024</td>\n",
       "      <td>2000</td>\n",
       "      <td>2550</td>\n",
       "      <td>2250.0</td>\n",
       "      <td>2024-01-02</td>\n",
       "    </tr>\n",
       "    <tr>\n",
       "      <th>3</th>\n",
       "      <td>Gujarat</td>\n",
       "      <td>Banaskanth</td>\n",
       "      <td>Deesa</td>\n",
       "      <td>Wheat</td>\n",
       "      <td>Other</td>\n",
       "      <td>02/01/2024</td>\n",
       "      <td>2415</td>\n",
       "      <td>2590</td>\n",
       "      <td>2500.0</td>\n",
       "      <td>2024-01-02</td>\n",
       "    </tr>\n",
       "    <tr>\n",
       "      <th>4</th>\n",
       "      <td>Gujarat</td>\n",
       "      <td>Banaskanth</td>\n",
       "      <td>Dhanera</td>\n",
       "      <td>Wheat</td>\n",
       "      <td>Other</td>\n",
       "      <td>01/01/2024</td>\n",
       "      <td>2715</td>\n",
       "      <td>2715</td>\n",
       "      <td>2715.0</td>\n",
       "      <td>2024-01-02</td>\n",
       "    </tr>\n",
       "  </tbody>\n",
       "</table>\n",
       "</div>"
      ],
      "text/plain": [
       "     state     district                  market commodity        variety  \\\n",
       "0    Bihar  Muzaffarpur             Muzaffarpur     Wheat    147 Average   \n",
       "1  Gujarat       Amreli                Bagasara     Wheat  Lokwan Gujrat   \n",
       "2  Gujarat        Anand  Khambhat(Grain Market)     Wheat          Other   \n",
       "3  Gujarat   Banaskanth                   Deesa     Wheat          Other   \n",
       "4  Gujarat   Banaskanth                 Dhanera     Wheat          Other   \n",
       "\n",
       "  arrival_date  min_price  max_price  modal_price update_date  \n",
       "0   01/01/2024       2500       2590       2550.0  2024-01-02  \n",
       "1   02/01/2024       2370       2700       2535.0  2024-01-02  \n",
       "2   02/01/2024       2000       2550       2250.0  2024-01-02  \n",
       "3   02/01/2024       2415       2590       2500.0  2024-01-02  \n",
       "4   01/01/2024       2715       2715       2715.0  2024-01-02  "
      ]
     },
     "execution_count": 3,
     "metadata": {},
     "output_type": "execute_result"
    }
   ],
   "source": [
    "df.head()"
   ]
  },
  {
   "cell_type": "markdown",
   "id": "efee40fb",
   "metadata": {},
   "source": [
    "- from the above execution we can see top 5 rows"
   ]
  },
  {
   "cell_type": "code",
   "execution_count": 4,
   "id": "1b236b02",
   "metadata": {},
   "outputs": [
    {
     "data": {
      "text/plain": [
       "(384, 10)"
      ]
     },
     "execution_count": 4,
     "metadata": {},
     "output_type": "execute_result"
    }
   ],
   "source": [
    "df.shape"
   ]
  },
  {
   "cell_type": "markdown",
   "id": "391ee8a0",
   "metadata": {},
   "source": [
    "we can clearly see that our data is small \n",
    "- 384 rows and 10 columns"
   ]
  },
  {
   "cell_type": "code",
   "execution_count": 5,
   "id": "757629e4",
   "metadata": {},
   "outputs": [
    {
     "data": {
      "text/html": [
       "<div>\n",
       "<style scoped>\n",
       "    .dataframe tbody tr th:only-of-type {\n",
       "        vertical-align: middle;\n",
       "    }\n",
       "\n",
       "    .dataframe tbody tr th {\n",
       "        vertical-align: top;\n",
       "    }\n",
       "\n",
       "    .dataframe thead th {\n",
       "        text-align: right;\n",
       "    }\n",
       "</style>\n",
       "<table border=\"1\" class=\"dataframe\">\n",
       "  <thead>\n",
       "    <tr style=\"text-align: right;\">\n",
       "      <th></th>\n",
       "      <th>state</th>\n",
       "      <th>district</th>\n",
       "      <th>market</th>\n",
       "      <th>commodity</th>\n",
       "      <th>variety</th>\n",
       "      <th>arrival_date</th>\n",
       "      <th>min_price</th>\n",
       "      <th>max_price</th>\n",
       "      <th>modal_price</th>\n",
       "      <th>update_date</th>\n",
       "    </tr>\n",
       "  </thead>\n",
       "  <tbody>\n",
       "    <tr>\n",
       "      <th>141</th>\n",
       "      <td>Maharashtra</td>\n",
       "      <td>Nandurbar</td>\n",
       "      <td>Navapur</td>\n",
       "      <td>Wheat</td>\n",
       "      <td>Other</td>\n",
       "      <td>01/01/2024</td>\n",
       "      <td>2090</td>\n",
       "      <td>2090</td>\n",
       "      <td>2090.0</td>\n",
       "      <td>2024-01-02</td>\n",
       "    </tr>\n",
       "    <tr>\n",
       "      <th>296</th>\n",
       "      <td>Uttar Pradesh</td>\n",
       "      <td>Jaunpur</td>\n",
       "      <td>Mugrabaadshahpur</td>\n",
       "      <td>Wheat</td>\n",
       "      <td>Dara</td>\n",
       "      <td>01/01/2024</td>\n",
       "      <td>2420</td>\n",
       "      <td>2620</td>\n",
       "      <td>2520.0</td>\n",
       "      <td>2024-01-02</td>\n",
       "    </tr>\n",
       "    <tr>\n",
       "      <th>229</th>\n",
       "      <td>Uttar Pradesh</td>\n",
       "      <td>Banda</td>\n",
       "      <td>Baberu</td>\n",
       "      <td>Wheat</td>\n",
       "      <td>Dara</td>\n",
       "      <td>02/01/2024</td>\n",
       "      <td>2150</td>\n",
       "      <td>2250</td>\n",
       "      <td>2200.0</td>\n",
       "      <td>2024-01-02</td>\n",
       "    </tr>\n",
       "    <tr>\n",
       "      <th>87</th>\n",
       "      <td>Madhya Pradesh</td>\n",
       "      <td>Satna</td>\n",
       "      <td>Satna</td>\n",
       "      <td>Wheat</td>\n",
       "      <td>Lokwan</td>\n",
       "      <td>01/01/2024</td>\n",
       "      <td>2393</td>\n",
       "      <td>2408</td>\n",
       "      <td>2421.0</td>\n",
       "      <td>2024-01-02</td>\n",
       "    </tr>\n",
       "    <tr>\n",
       "      <th>342</th>\n",
       "      <td>Uttar Pradesh</td>\n",
       "      <td>Pillibhit</td>\n",
       "      <td>Pilibhit</td>\n",
       "      <td>Wheat</td>\n",
       "      <td>Dara</td>\n",
       "      <td>01/01/2024</td>\n",
       "      <td>2460</td>\n",
       "      <td>2580</td>\n",
       "      <td>2535.0</td>\n",
       "      <td>2024-01-02</td>\n",
       "    </tr>\n",
       "    <tr>\n",
       "      <th>356</th>\n",
       "      <td>Uttar Pradesh</td>\n",
       "      <td>Rampur</td>\n",
       "      <td>Rampur</td>\n",
       "      <td>Wheat</td>\n",
       "      <td>Dara</td>\n",
       "      <td>02/01/2024</td>\n",
       "      <td>2530</td>\n",
       "      <td>2595</td>\n",
       "      <td>2550.0</td>\n",
       "      <td>2024-01-02</td>\n",
       "    </tr>\n",
       "    <tr>\n",
       "      <th>228</th>\n",
       "      <td>Uttar Pradesh</td>\n",
       "      <td>Banda</td>\n",
       "      <td>Atarra</td>\n",
       "      <td>Wheat</td>\n",
       "      <td>Dara</td>\n",
       "      <td>01/01/2024</td>\n",
       "      <td>2290</td>\n",
       "      <td>2450</td>\n",
       "      <td>2370.0</td>\n",
       "      <td>2024-01-02</td>\n",
       "    </tr>\n",
       "    <tr>\n",
       "      <th>185</th>\n",
       "      <td>Rajasthan</td>\n",
       "      <td>Bharatpur</td>\n",
       "      <td>Nadwai</td>\n",
       "      <td>Wheat</td>\n",
       "      <td>Other</td>\n",
       "      <td>01/01/2024</td>\n",
       "      <td>2350</td>\n",
       "      <td>2350</td>\n",
       "      <td>2350.0</td>\n",
       "      <td>2024-01-02</td>\n",
       "    </tr>\n",
       "    <tr>\n",
       "      <th>236</th>\n",
       "      <td>Uttar Pradesh</td>\n",
       "      <td>Bijnor</td>\n",
       "      <td>Bijnaur</td>\n",
       "      <td>Wheat</td>\n",
       "      <td>Dara</td>\n",
       "      <td>02/01/2024</td>\n",
       "      <td>2500</td>\n",
       "      <td>2620</td>\n",
       "      <td>2540.0</td>\n",
       "      <td>2024-01-02</td>\n",
       "    </tr>\n",
       "    <tr>\n",
       "      <th>344</th>\n",
       "      <td>Uttar Pradesh</td>\n",
       "      <td>Pillibhit</td>\n",
       "      <td>Puranpur</td>\n",
       "      <td>Wheat</td>\n",
       "      <td>Dara</td>\n",
       "      <td>01/01/2024</td>\n",
       "      <td>2480</td>\n",
       "      <td>2620</td>\n",
       "      <td>2530.0</td>\n",
       "      <td>2024-01-02</td>\n",
       "    </tr>\n",
       "    <tr>\n",
       "      <th>143</th>\n",
       "      <td>Maharashtra</td>\n",
       "      <td>Nashik</td>\n",
       "      <td>Lasalgaon</td>\n",
       "      <td>Wheat</td>\n",
       "      <td>Maharashtra 2189</td>\n",
       "      <td>01/01/2024</td>\n",
       "      <td>2451</td>\n",
       "      <td>3081</td>\n",
       "      <td>2950.0</td>\n",
       "      <td>2024-01-02</td>\n",
       "    </tr>\n",
       "    <tr>\n",
       "      <th>183</th>\n",
       "      <td>Rajasthan</td>\n",
       "      <td>Baran</td>\n",
       "      <td>Atru(Kawai Salpura)</td>\n",
       "      <td>Wheat</td>\n",
       "      <td>Other</td>\n",
       "      <td>01/01/2024</td>\n",
       "      <td>2450</td>\n",
       "      <td>2588</td>\n",
       "      <td>2519.0</td>\n",
       "      <td>2024-01-02</td>\n",
       "    </tr>\n",
       "    <tr>\n",
       "      <th>282</th>\n",
       "      <td>Uttar Pradesh</td>\n",
       "      <td>Hardoi</td>\n",
       "      <td>Sandi</td>\n",
       "      <td>Wheat</td>\n",
       "      <td>Dara</td>\n",
       "      <td>02/01/2024</td>\n",
       "      <td>2400</td>\n",
       "      <td>2500</td>\n",
       "      <td>2435.0</td>\n",
       "      <td>2024-01-02</td>\n",
       "    </tr>\n",
       "    <tr>\n",
       "      <th>135</th>\n",
       "      <td>Maharashtra</td>\n",
       "      <td>Nagpur</td>\n",
       "      <td>Katol</td>\n",
       "      <td>Wheat</td>\n",
       "      <td>Other</td>\n",
       "      <td>01/01/2024</td>\n",
       "      <td>2400</td>\n",
       "      <td>2450</td>\n",
       "      <td>2430.0</td>\n",
       "      <td>2024-01-02</td>\n",
       "    </tr>\n",
       "    <tr>\n",
       "      <th>332</th>\n",
       "      <td>Uttar Pradesh</td>\n",
       "      <td>Mirzapur</td>\n",
       "      <td>Mirzapur</td>\n",
       "      <td>Wheat</td>\n",
       "      <td>Dara</td>\n",
       "      <td>01/01/2024</td>\n",
       "      <td>2475</td>\n",
       "      <td>2575</td>\n",
       "      <td>2525.0</td>\n",
       "      <td>2024-01-02</td>\n",
       "    </tr>\n",
       "    <tr>\n",
       "      <th>330</th>\n",
       "      <td>Uttar Pradesh</td>\n",
       "      <td>Mirzapur</td>\n",
       "      <td>Ahirora</td>\n",
       "      <td>Wheat</td>\n",
       "      <td>Dara</td>\n",
       "      <td>01/01/2024</td>\n",
       "      <td>2450</td>\n",
       "      <td>2600</td>\n",
       "      <td>2520.0</td>\n",
       "      <td>2024-01-02</td>\n",
       "    </tr>\n",
       "    <tr>\n",
       "      <th>132</th>\n",
       "      <td>Maharashtra</td>\n",
       "      <td>Jalgaon</td>\n",
       "      <td>Jalgaon</td>\n",
       "      <td>Wheat</td>\n",
       "      <td>147 Average</td>\n",
       "      <td>02/01/2024</td>\n",
       "      <td>2200</td>\n",
       "      <td>2200</td>\n",
       "      <td>2200.0</td>\n",
       "      <td>2024-01-02</td>\n",
       "    </tr>\n",
       "    <tr>\n",
       "      <th>346</th>\n",
       "      <td>Uttar Pradesh</td>\n",
       "      <td>Pillibhit</td>\n",
       "      <td>Vishalpur</td>\n",
       "      <td>Wheat</td>\n",
       "      <td>Dara</td>\n",
       "      <td>01/01/2024</td>\n",
       "      <td>2500</td>\n",
       "      <td>2580</td>\n",
       "      <td>2530.0</td>\n",
       "      <td>2024-01-02</td>\n",
       "    </tr>\n",
       "    <tr>\n",
       "      <th>45</th>\n",
       "      <td>Madhya Pradesh</td>\n",
       "      <td>Dhar</td>\n",
       "      <td>Badnawar</td>\n",
       "      <td>Wheat</td>\n",
       "      <td>Lokwan</td>\n",
       "      <td>01/01/2024</td>\n",
       "      <td>2130</td>\n",
       "      <td>2135</td>\n",
       "      <td>2130.0</td>\n",
       "      <td>2024-01-02</td>\n",
       "    </tr>\n",
       "    <tr>\n",
       "      <th>310</th>\n",
       "      <td>Uttar Pradesh</td>\n",
       "      <td>Kanpur</td>\n",
       "      <td>Uttaripura</td>\n",
       "      <td>Wheat</td>\n",
       "      <td>Dara</td>\n",
       "      <td>02/01/2024</td>\n",
       "      <td>2415</td>\n",
       "      <td>2515</td>\n",
       "      <td>2465.0</td>\n",
       "      <td>2024-01-02</td>\n",
       "    </tr>\n",
       "  </tbody>\n",
       "</table>\n",
       "</div>"
      ],
      "text/plain": [
       "              state   district               market commodity  \\\n",
       "141     Maharashtra  Nandurbar              Navapur     Wheat   \n",
       "296   Uttar Pradesh    Jaunpur     Mugrabaadshahpur     Wheat   \n",
       "229   Uttar Pradesh      Banda               Baberu     Wheat   \n",
       "87   Madhya Pradesh      Satna                Satna     Wheat   \n",
       "342   Uttar Pradesh  Pillibhit             Pilibhit     Wheat   \n",
       "356   Uttar Pradesh     Rampur               Rampur     Wheat   \n",
       "228   Uttar Pradesh      Banda               Atarra     Wheat   \n",
       "185       Rajasthan  Bharatpur               Nadwai     Wheat   \n",
       "236   Uttar Pradesh     Bijnor              Bijnaur     Wheat   \n",
       "344   Uttar Pradesh  Pillibhit             Puranpur     Wheat   \n",
       "143     Maharashtra     Nashik            Lasalgaon     Wheat   \n",
       "183       Rajasthan      Baran  Atru(Kawai Salpura)     Wheat   \n",
       "282   Uttar Pradesh     Hardoi                Sandi     Wheat   \n",
       "135     Maharashtra     Nagpur                Katol     Wheat   \n",
       "332   Uttar Pradesh   Mirzapur             Mirzapur     Wheat   \n",
       "330   Uttar Pradesh   Mirzapur              Ahirora     Wheat   \n",
       "132     Maharashtra    Jalgaon              Jalgaon     Wheat   \n",
       "346   Uttar Pradesh  Pillibhit            Vishalpur     Wheat   \n",
       "45   Madhya Pradesh       Dhar             Badnawar     Wheat   \n",
       "310   Uttar Pradesh     Kanpur           Uttaripura     Wheat   \n",
       "\n",
       "              variety arrival_date  min_price  max_price  modal_price  \\\n",
       "141             Other   01/01/2024       2090       2090       2090.0   \n",
       "296              Dara   01/01/2024       2420       2620       2520.0   \n",
       "229              Dara   02/01/2024       2150       2250       2200.0   \n",
       "87             Lokwan   01/01/2024       2393       2408       2421.0   \n",
       "342              Dara   01/01/2024       2460       2580       2535.0   \n",
       "356              Dara   02/01/2024       2530       2595       2550.0   \n",
       "228              Dara   01/01/2024       2290       2450       2370.0   \n",
       "185             Other   01/01/2024       2350       2350       2350.0   \n",
       "236              Dara   02/01/2024       2500       2620       2540.0   \n",
       "344              Dara   01/01/2024       2480       2620       2530.0   \n",
       "143  Maharashtra 2189   01/01/2024       2451       3081       2950.0   \n",
       "183             Other   01/01/2024       2450       2588       2519.0   \n",
       "282              Dara   02/01/2024       2400       2500       2435.0   \n",
       "135             Other   01/01/2024       2400       2450       2430.0   \n",
       "332              Dara   01/01/2024       2475       2575       2525.0   \n",
       "330              Dara   01/01/2024       2450       2600       2520.0   \n",
       "132       147 Average   02/01/2024       2200       2200       2200.0   \n",
       "346              Dara   01/01/2024       2500       2580       2530.0   \n",
       "45             Lokwan   01/01/2024       2130       2135       2130.0   \n",
       "310              Dara   02/01/2024       2415       2515       2465.0   \n",
       "\n",
       "    update_date  \n",
       "141  2024-01-02  \n",
       "296  2024-01-02  \n",
       "229  2024-01-02  \n",
       "87   2024-01-02  \n",
       "342  2024-01-02  \n",
       "356  2024-01-02  \n",
       "228  2024-01-02  \n",
       "185  2024-01-02  \n",
       "236  2024-01-02  \n",
       "344  2024-01-02  \n",
       "143  2024-01-02  \n",
       "183  2024-01-02  \n",
       "282  2024-01-02  \n",
       "135  2024-01-02  \n",
       "332  2024-01-02  \n",
       "330  2024-01-02  \n",
       "132  2024-01-02  \n",
       "346  2024-01-02  \n",
       "45   2024-01-02  \n",
       "310  2024-01-02  "
      ]
     },
     "execution_count": 5,
     "metadata": {},
     "output_type": "execute_result"
    }
   ],
   "source": [
    "df.sample(20)"
   ]
  },
  {
   "cell_type": "markdown",
   "id": "9e5bb1e1",
   "metadata": {},
   "source": [
    "- randomly see the 20 rows of the dataset"
   ]
  },
  {
   "cell_type": "code",
   "execution_count": 6,
   "id": "c622d427",
   "metadata": {},
   "outputs": [
    {
     "data": {
      "text/plain": [
       "Index(['state', 'district', 'market', 'commodity', 'variety', 'arrival_date',\n",
       "       'min_price', 'max_price', 'modal_price', 'update_date'],\n",
       "      dtype='object')"
      ]
     },
     "execution_count": 6,
     "metadata": {},
     "output_type": "execute_result"
    }
   ],
   "source": [
    "df.columns"
   ]
  },
  {
   "cell_type": "code",
   "execution_count": 7,
   "id": "c616e21e",
   "metadata": {},
   "outputs": [
    {
     "name": "stdout",
     "output_type": "stream",
     "text": [
      "<class 'pandas.core.frame.DataFrame'>\n",
      "RangeIndex: 384 entries, 0 to 383\n",
      "Data columns (total 10 columns):\n",
      " #   Column        Non-Null Count  Dtype  \n",
      "---  ------        --------------  -----  \n",
      " 0   state         384 non-null    object \n",
      " 1   district      384 non-null    object \n",
      " 2   market        384 non-null    object \n",
      " 3   commodity     384 non-null    object \n",
      " 4   variety       384 non-null    object \n",
      " 5   arrival_date  384 non-null    object \n",
      " 6   min_price     384 non-null    int64  \n",
      " 7   max_price     384 non-null    int64  \n",
      " 8   modal_price   384 non-null    float64\n",
      " 9   update_date   384 non-null    object \n",
      "dtypes: float64(1), int64(2), object(7)\n",
      "memory usage: 30.1+ KB\n"
     ]
    }
   ],
   "source": [
    "df.info()"
   ]
  },
  {
   "cell_type": "markdown",
   "id": "f23947f9",
   "metadata": {},
   "source": [
    "- from the above observation we see that there are 7 object data types and 2 int and 1 float object"
   ]
  },
  {
   "cell_type": "code",
   "execution_count": 8,
   "id": "0df2cd8d",
   "metadata": {},
   "outputs": [
    {
     "data": {
      "text/html": [
       "<div>\n",
       "<style scoped>\n",
       "    .dataframe tbody tr th:only-of-type {\n",
       "        vertical-align: middle;\n",
       "    }\n",
       "\n",
       "    .dataframe tbody tr th {\n",
       "        vertical-align: top;\n",
       "    }\n",
       "\n",
       "    .dataframe thead th {\n",
       "        text-align: right;\n",
       "    }\n",
       "</style>\n",
       "<table border=\"1\" class=\"dataframe\">\n",
       "  <thead>\n",
       "    <tr style=\"text-align: right;\">\n",
       "      <th></th>\n",
       "      <th>min_price</th>\n",
       "      <th>max_price</th>\n",
       "      <th>modal_price</th>\n",
       "    </tr>\n",
       "  </thead>\n",
       "  <tbody>\n",
       "    <tr>\n",
       "      <th>count</th>\n",
       "      <td>384.000000</td>\n",
       "      <td>384.000000</td>\n",
       "      <td>384.000000</td>\n",
       "    </tr>\n",
       "    <tr>\n",
       "      <th>mean</th>\n",
       "      <td>2432.846354</td>\n",
       "      <td>2630.643229</td>\n",
       "      <td>2503.615885</td>\n",
       "    </tr>\n",
       "    <tr>\n",
       "      <th>std</th>\n",
       "      <td>252.679851</td>\n",
       "      <td>327.752207</td>\n",
       "      <td>235.955906</td>\n",
       "    </tr>\n",
       "    <tr>\n",
       "      <th>min</th>\n",
       "      <td>1750.000000</td>\n",
       "      <td>1850.000000</td>\n",
       "      <td>1800.000000</td>\n",
       "    </tr>\n",
       "    <tr>\n",
       "      <th>25%</th>\n",
       "      <td>2348.750000</td>\n",
       "      <td>2460.000000</td>\n",
       "      <td>2409.500000</td>\n",
       "    </tr>\n",
       "    <tr>\n",
       "      <th>50%</th>\n",
       "      <td>2410.000000</td>\n",
       "      <td>2550.000000</td>\n",
       "      <td>2478.000000</td>\n",
       "    </tr>\n",
       "    <tr>\n",
       "      <th>75%</th>\n",
       "      <td>2485.000000</td>\n",
       "      <td>2652.500000</td>\n",
       "      <td>2530.000000</td>\n",
       "    </tr>\n",
       "    <tr>\n",
       "      <th>max</th>\n",
       "      <td>4701.000000</td>\n",
       "      <td>4701.000000</td>\n",
       "      <td>4100.000000</td>\n",
       "    </tr>\n",
       "  </tbody>\n",
       "</table>\n",
       "</div>"
      ],
      "text/plain": [
       "         min_price    max_price  modal_price\n",
       "count   384.000000   384.000000   384.000000\n",
       "mean   2432.846354  2630.643229  2503.615885\n",
       "std     252.679851   327.752207   235.955906\n",
       "min    1750.000000  1850.000000  1800.000000\n",
       "25%    2348.750000  2460.000000  2409.500000\n",
       "50%    2410.000000  2550.000000  2478.000000\n",
       "75%    2485.000000  2652.500000  2530.000000\n",
       "max    4701.000000  4701.000000  4100.000000"
      ]
     },
     "execution_count": 8,
     "metadata": {},
     "output_type": "execute_result"
    }
   ],
   "source": [
    "# collecting some statstical summary from our data\n",
    "df.describe()"
   ]
  },
  {
   "cell_type": "code",
   "execution_count": 9,
   "id": "63d0507e",
   "metadata": {},
   "outputs": [
    {
     "data": {
      "text/plain": [
       "state           0\n",
       "district        0\n",
       "market          0\n",
       "commodity       0\n",
       "variety         0\n",
       "arrival_date    0\n",
       "min_price       0\n",
       "max_price       0\n",
       "modal_price     0\n",
       "update_date     0\n",
       "dtype: int64"
      ]
     },
     "execution_count": 9,
     "metadata": {},
     "output_type": "execute_result"
    }
   ],
   "source": [
    "df.isnull().sum()"
   ]
  },
  {
   "cell_type": "code",
   "execution_count": 10,
   "id": "b9531b7b",
   "metadata": {},
   "outputs": [
    {
     "data": {
      "text/plain": [
       "state           False\n",
       "district        False\n",
       "market          False\n",
       "commodity       False\n",
       "variety         False\n",
       "arrival_date    False\n",
       "min_price       False\n",
       "max_price       False\n",
       "modal_price     False\n",
       "update_date     False\n",
       "dtype: bool"
      ]
     },
     "execution_count": 10,
     "metadata": {},
     "output_type": "execute_result"
    }
   ],
   "source": [
    "missing_values = df.isin([\"?\", \"NaN\", \"Null\"])\n",
    "missing_values.any()"
   ]
  },
  {
   "cell_type": "markdown",
   "id": "0f633183",
   "metadata": {},
   "source": [
    "there are no mi2ssing values in our dataset"
   ]
  },
  {
   "cell_type": "code",
   "execution_count": 11,
   "id": "f0362cdd",
   "metadata": {},
   "outputs": [
    {
     "data": {
      "text/plain": [
       "0"
      ]
     },
     "execution_count": 11,
     "metadata": {},
     "output_type": "execute_result"
    }
   ],
   "source": [
    "# lets see any duplicates are present in our data\n",
    "df.duplicated().sum()"
   ]
  },
  {
   "cell_type": "markdown",
   "id": "3dca455b",
   "metadata": {},
   "source": [
    "there are no duplicates in our data"
   ]
  },
  {
   "cell_type": "markdown",
   "id": "b0e560d3",
   "metadata": {},
   "source": [
    "### We have done our basic understanding about the dataset"
   ]
  },
  {
   "cell_type": "markdown",
   "id": "2c57be0f",
   "metadata": {},
   "source": [
    "## Explotary Data Anlaysis"
   ]
  },
  {
   "cell_type": "code",
   "execution_count": 12,
   "id": "aeb4701d",
   "metadata": {},
   "outputs": [
    {
     "data": {
      "text/plain": [
       "Index(['state', 'district', 'market', 'commodity', 'variety', 'arrival_date',\n",
       "       'min_price', 'max_price', 'modal_price', 'update_date'],\n",
       "      dtype='object')"
      ]
     },
     "execution_count": 12,
     "metadata": {},
     "output_type": "execute_result"
    }
   ],
   "source": [
    "df.columns"
   ]
  },
  {
   "cell_type": "code",
   "execution_count": 13,
   "id": "1d17b6d9",
   "metadata": {},
   "outputs": [
    {
     "data": {
      "text/plain": [
       "array(['Bihar', 'Gujarat', 'Karnataka', 'Madhya Pradesh', 'Maharashtra',\n",
       "       'Rajasthan', 'Uttar Pradesh', 'West Bengal'], dtype=object)"
      ]
     },
     "execution_count": 13,
     "metadata": {},
     "output_type": "execute_result"
    }
   ],
   "source": [
    "df[\"state\"].unique()"
   ]
  },
  {
   "cell_type": "markdown",
   "id": "f2cf672e",
   "metadata": {},
   "source": [
    "we can see that there are total 8 unique states in our data"
   ]
  },
  {
   "cell_type": "code",
   "execution_count": 14,
   "id": "d78a7587",
   "metadata": {},
   "outputs": [
    {
     "data": {
      "text/plain": [
       "state\n",
       "Uttar Pradesh     182\n",
       "Maharashtra        74\n",
       "Madhya Pradesh     66\n",
       "Gujarat            27\n",
       "Rajasthan          21\n",
       "Karnataka           8\n",
       "West Bengal         5\n",
       "Bihar               1\n",
       "Name: count, dtype: int64"
      ]
     },
     "execution_count": 14,
     "metadata": {},
     "output_type": "execute_result"
    }
   ],
   "source": [
    "df[\"state\"].value_counts()"
   ]
  },
  {
   "cell_type": "markdown",
   "id": "e72f9334",
   "metadata": {},
   "source": [
    "- Uttar pradesh , maharashtra and madhya pradesh has the highest frequecy distribution\n",
    "- West Bengal and bihar have the least number of frequecy in our data"
   ]
  },
  {
   "cell_type": "code",
   "execution_count": 15,
   "id": "901c5d99",
   "metadata": {},
   "outputs": [
    {
     "data": {
      "text/plain": [
       "Text(0.5, 1.0, 'Frequency distribution of State Column')"
      ]
     },
     "execution_count": 15,
     "metadata": {},
     "output_type": "execute_result"
    },
    {
     "data": {
      "image/png": "[encoded data removed]",
      "text/plain": [
       "<Figure size 1500x600 with 1 Axes>"
      ]
     },
     "metadata": {},
     "output_type": "display_data"
    }
   ],
   "source": [
    "# lets visulaize our state column \n",
    "plt.figure(figsize=(15 , 6))\n",
    "plt.style.use(\"fivethirtyeight\")\n",
    "sns.countplot(data = df , x= \"state\" , order = df[\"state\"].value_counts(ascending=False).index)\n",
    "plt.xlabel(\"States of India\")\n",
    "plt.ylabel(\"Count\")\n",
    "plt.title(\"Frequency distribution of State Column\")"
   ]
  },
  {
   "cell_type": "markdown",
   "id": "1b76c228",
   "metadata": {},
   "source": [
    "from the above observation we can clearly see that:\n",
    "- Uttar pradesh , maharashtra and madhya pradesh has the highest frequecy distribution\n",
    "- West Bengal and bihar have the least number of frequecy in our data"
   ]
  },
  {
   "cell_type": "code",
   "execution_count": 16,
   "id": "4b3eeb0d",
   "metadata": {},
   "outputs": [
    {
     "data": {
      "text/plain": [
       "array(['Muzaffarpur', 'Amreli', 'Anand', 'Banaskanth', 'Dahod',\n",
       "       'Gandhinagar', 'Jamnagar', 'Junagarh', 'Mehsana', 'Patan',\n",
       "       'Rajkot', 'Surendranagar', 'Bangalore', 'Bidar', 'Bijapur',\n",
       "       'Dharwad', 'Gadag', 'Shimoga', 'Ashoknagar', 'Betul', 'Bhopal',\n",
       "       'Chhatarpur', 'Datia', 'Dewas', 'Dhar', 'Guna', 'Harda',\n",
       "       'Hoshangabad', 'Indore', 'Katni', 'Khandwa', 'Khargone',\n",
       "       'Mandsaur', 'Narsinghpur', 'Panna', 'Rajgarh', 'Ratlam', 'Rewa',\n",
       "       'Sagar', 'Satna', 'Sehore', 'Shivpuri', 'Tikamgarh', 'Vidisha',\n",
       "       'Ahmednagar', 'Akola', 'Amarawati', 'Aurangabad', 'Beed',\n",
       "       'Buldhana', 'Dhule', 'Hingoli', 'Jalana', 'Jalgaon', 'Latur',\n",
       "       'Nagpur', 'Nanded', 'Nandurbar', 'Nashik', 'Parbhani', 'Pune',\n",
       "       'Sangli', 'Sholapur', 'Thane', 'Vashim', 'Wardha', 'Yavatmal',\n",
       "       'Ajmer', 'Alwar', 'Baran', 'Bharatpur', 'Bhilwara', 'Dausa',\n",
       "       'Ganganagar', 'Jhalawar', 'Kota', 'Swai Madhopur', 'Tonk', 'Agra',\n",
       "       'Aligarh', 'Allahabad', 'Ambedkarnagar', 'Auraiya', 'Azamgarh',\n",
       "       'Badaun', 'Bahraich', 'Ballia', 'Balrampur', 'Banda', 'Barabanki',\n",
       "       'Bareilly', 'Bijnor', 'Bulandshahar', 'Chandauli', 'Chitrakut',\n",
       "       'Deoria', 'Etah', 'Etawah', 'Faizabad', 'Farukhabad', 'Fatehpur',\n",
       "       'Firozabad', 'Gautam Budh Nagar', 'Ghaziabad', 'Ghazipur', 'Gonda',\n",
       "       'Gorakhpur', 'Hamirpur', 'Hardoi', 'Hathras', 'Jalaun (Orai)',\n",
       "       'Jaunpur', 'Jhansi', 'Jyotiba Phule Nagar', 'Kannuj', 'Kanpur',\n",
       "       'Khiri (Lakhimpur)', 'Lakhimpur', 'Lalitpur', 'Lucknow',\n",
       "       'Maharajganj', 'Mahoba', 'Mainpuri', 'Mathura', 'Meerut',\n",
       "       'Mirzapur', 'Muradabad', 'Muzaffarnagar', 'Padrauna(Kusinagar)',\n",
       "       'Pillibhit', 'Pratapgarh', 'Raebarelli', 'Rampur', 'Saharanpur',\n",
       "       'Shahjahanpur', 'Siddharth Nagar', 'Sitapur', 'Sonbhadra',\n",
       "       'Sultanpur', 'Unnao', 'Bankura', 'Birbhum'], dtype=object)"
      ]
     },
     "execution_count": 16,
     "metadata": {},
     "output_type": "execute_result"
    }
   ],
   "source": [
    "df[\"district\"].unique()"
   ]
  },
  {
   "cell_type": "markdown",
   "id": "f4a3ac95",
   "metadata": {},
   "source": [
    "there are so many unique district in our data\n",
    "so we'll now check the top value counts of district"
   ]
  },
  {
   "cell_type": "code",
   "execution_count": 17,
   "id": "f5c2732c",
   "metadata": {},
   "outputs": [],
   "source": [
    "top_10_district = df[\"district\"].value_counts().head(10)"
   ]
  },
  {
   "cell_type": "code",
   "execution_count": 18,
   "id": "3a5e93da",
   "metadata": {},
   "outputs": [
    {
     "data": {
      "text/plain": [
       "district\n",
       "Nashik           10\n",
       "Hardoi            9\n",
       "Banaskanth        8\n",
       "Harda             8\n",
       "Sehore            7\n",
       "Kanpur            7\n",
       "Sitapur           6\n",
       "Ahmednagar        6\n",
       "Raebarelli        6\n",
       "Jalaun (Orai)     6\n",
       "Name: count, dtype: int64"
      ]
     },
     "execution_count": 18,
     "metadata": {},
     "output_type": "execute_result"
    }
   ],
   "source": [
    "top_10_district"
   ]
  },
  {
   "cell_type": "code",
   "execution_count": 19,
   "id": "bf2760b2",
   "metadata": {},
   "outputs": [
    {
     "data": {
      "text/plain": [
       "<Axes: xlabel='district'>"
      ]
     },
     "execution_count": 19,
     "metadata": {},
     "output_type": "execute_result"
    },
    {
     "data": {
      "image/png": "[encoded data removed]",
      "text/plain": [
       "<Figure size 1000x600 with 1 Axes>"
      ]
     },
     "metadata": {},
     "output_type": "display_data"
    }
   ],
   "source": [
    "plt.figure(figsize=(10 , 6))\n",
    "plt.style.use(\"fivethirtyeight\")\n",
    "df[\"district\"].value_counts(ascending=False).head(10).plot(kind=\"bar\")"
   ]
  },
  {
   "cell_type": "code",
   "execution_count": 20,
   "id": "fbda04e0",
   "metadata": {},
   "outputs": [
    {
     "data": {
      "text/plain": [
       "array(['Muzaffarpur', 'Bagasara', 'Khambhat(Grain Market)', 'Deesa',\n",
       "       'Dhanera', 'Palanpur', 'Thara', 'Vadgam', 'Dahod', 'Dehgam',\n",
       "       'Dhrol', 'Visavadar', 'Kadi', 'Siddhpur', 'Dhoraji', 'Rajkot',\n",
       "       'Dhragradhra', 'Halvad', 'Bangalore', 'Basava Kalayana', 'Bidar',\n",
       "       'Bijapur', 'Hubli (Amaragol)', 'Laxmeshwar', 'Shimoga',\n",
       "       'Ashoknagar', 'Betul', 'Berasia', 'Badamalhera', 'Datia', 'Dewas',\n",
       "       'Badnawar', 'Dhar', 'Manawar', 'Rajgarh', 'Kumbhraj', 'Harda',\n",
       "       'Khirakiya', 'Sirali', 'Timarni', 'Babai', 'Hoshangabad',\n",
       "       'Pipariya', 'Semriharchand', 'Indore', 'Katni', 'Harsood',\n",
       "       'Khandwa', 'Kasrawad', 'Mandsaur', 'Narsinghpur', 'Ajaygarh',\n",
       "       'Jeerapur', 'Kurawar', 'Narsinghgarh', 'Pachaur', 'Ratlam',\n",
       "       'Sailana', 'Baikunthpur', 'Bina', 'Khurai', 'Nagod', 'Satna',\n",
       "       'Sehore', 'Shyampur', 'Karera', 'Khaniadhana', 'Tikamgarh',\n",
       "       'Ganjbasoda', 'Sironj', 'Vidisha', 'Jamkhed', 'Kopargaon',\n",
       "       'Rahata', 'Sangamner', 'Shevgaon', 'Shevgaon(Bodhegaon)', 'Akola',\n",
       "       'Amarawati', 'Morshi', 'Varud', 'Aurangabad', 'Lasur Station',\n",
       "       'Gevrai', 'Kada', 'Kille Dharur', 'Majalgaon', 'Chikali',\n",
       "       'Deoulgaon Raja', 'Khamgaon', 'Nandura', 'Dhule', 'Dondaicha',\n",
       "       'Hingoli', 'Ambad (Vadigodri)', 'Bhokardan(Pimpalgaon Renu)',\n",
       "       'Jalana', 'Partur', 'Amalner', 'Jalgaon', 'Pachora',\n",
       "       'Aurad Shahajani', 'Katol', 'Nagpur', 'Loha', 'Nanded', 'Navapur',\n",
       "       'Devala', 'Lasalgaon', 'Lasalgaon(Niphad)', 'Lasalgaon(Vinchur)',\n",
       "       'Malegaon', 'Manmad', 'Nandgaon', 'Satana', 'Sinner', 'Yeola',\n",
       "       'Gangakhed', 'Pathari', 'Sonpeth', 'Baramati', 'Sangli', 'Barshi',\n",
       "       'Barshi(Vairag)', 'Karmala', 'Kurdwadi(Modnimb)', 'Mangal Wedha',\n",
       "       'Solapur', 'Kalyan', 'Palghar', 'Ulhasnagar', 'Karanja',\n",
       "       'Mangrulpeer', 'Washim(Ansing)', 'Sindi(Selu)', 'Yeotmal',\n",
       "       'Madanganj Kishanganj', 'Vijay Nagar(Gulabpura)', 'Alwar',\n",
       "       'Khedh(Bodaramev)', 'Khedli(laxmangarh)', 'Kherli', 'Atru',\n",
       "       'Atru(Kawai Salpura)', 'Bharatpur', 'Nadwai', 'Bhilwara',\n",
       "       'Bandikui', 'Lalsot(Mandabari)', 'Mahuwa Mandawar',\n",
       "       'Sriganganagar', 'Khanpur', 'Kota', 'Ramaganj Mandi',\n",
       "       'Gangapur City', 'Niwai', 'Achnera', 'Agra', 'Aligarh', 'Charra',\n",
       "       'Khair', 'Ajuha', 'Allahabad', 'Akbarpur', 'Achalda', 'Auraiya',\n",
       "       'Azamgarh', 'Badayoun', 'Ujhani', 'Wazirganj', 'Bahraich',\n",
       "       'Naanpara', 'Ballia', 'Rasda', 'Tulsipur', 'Atarra', 'Baberu',\n",
       "       'Banda', 'Barabanki', 'Safdarganj', 'Bareilly', 'Bijnaur',\n",
       "       'Jahangirabad', 'Khurja', 'Siyana', 'Chandoli', 'Karvi', 'Barhaj',\n",
       "       'Devariya', 'Aliganj', 'Etah', 'Bharthna', 'Etawah', 'Faizabad',\n",
       "       'Farukhabad', 'Kayamganj', 'Mohamadabad', 'Bindki', 'Fatehpur',\n",
       "       'Khaga', 'Firozabad', 'Tundla', 'Dadri', 'Dankaur', 'Ghaziabad',\n",
       "       'Hapur', 'Gazipur', 'Gonda', 'Gorakhpur', 'Bharuasumerpur',\n",
       "       'Maudaha', 'Hardoi', 'Madhoganj', 'Sandi', 'Sandila',\n",
       "       'Shahabad(New Mandi)', 'Haathras', 'Ait', 'Konch', 'Madhogarh',\n",
       "       'Orai', 'Jaunpur', 'Mugrabaadshahpur', 'Shahganj', 'Gurusarai',\n",
       "       'Jhansi', 'Amroha', 'Dhanura', 'Chhibramau(Kannuj)', 'Kannauj',\n",
       "       'Choubepur', 'Jhijhank', 'Kanpur(Grain)', 'Uttaripura', 'Varipaal',\n",
       "       'Mohammdi', 'Golagokarnath', 'Lakhimpur', 'Lalitpur', 'Banthara',\n",
       "       'Lucknow', 'Anandnagar', 'Mahoba', 'Ghiraur', 'Mainpuri',\n",
       "       'Mathura', 'Meerut', 'Ahirora', 'Mirzapur', 'Chandausi',\n",
       "       'Muradabad', 'Muzzafarnagar', 'Shamli', 'Tamkuhi Road', 'Pilibhit',\n",
       "       'Puranpur', 'Vishalpur', 'Pratapgarh', 'Jayas', 'Lalganj',\n",
       "       'Raibareilly', 'Salon', 'Rampur', 'Saharanpur', 'Puwaha',\n",
       "       'Shahjahanpur', 'Naugarh', 'Sahiyapur', 'Mehmoodabad', 'Sitapur',\n",
       "       'Viswan', 'Robertsganj', 'Jafarganj', 'Sultanpur', 'Bangarmau',\n",
       "       'Unnao', 'Bishnupur(Bankura)', 'Khatra', 'Rampurhat'], dtype=object)"
      ]
     },
     "execution_count": 20,
     "metadata": {},
     "output_type": "execute_result"
    }
   ],
   "source": [
    "df[\"market\"].unique()"
   ]
  },
  {
   "cell_type": "markdown",
   "id": "d07e09ef",
   "metadata": {},
   "source": [
    "so here we also have a same problem so we will take top 10 markets area "
   ]
  },
  {
   "cell_type": "code",
   "execution_count": 21,
   "id": "ca8c3942",
   "metadata": {},
   "outputs": [
    {
     "data": {
      "text/plain": [
       "market\n",
       "Sehore              6\n",
       "Rajkot              4\n",
       "Harda               4\n",
       "Mandsaur            3\n",
       "Rampurhat           2\n",
       "                   ..\n",
       "Nandgaon            1\n",
       "Satana              1\n",
       "Sinner              1\n",
       "Yeola               1\n",
       "Khedh(Bodaramev)    1\n",
       "Name: count, Length: 279, dtype: int64"
      ]
     },
     "execution_count": 21,
     "metadata": {},
     "output_type": "execute_result"
    }
   ],
   "source": [
    "df[\"market\"].value_counts()"
   ]
  },
  {
   "cell_type": "code",
   "execution_count": 22,
   "id": "57aefab5",
   "metadata": {},
   "outputs": [],
   "source": [
    "top_10_market = df[\"market\"].value_counts().head(10)"
   ]
  },
  {
   "cell_type": "code",
   "execution_count": 23,
   "id": "2f0c4d24",
   "metadata": {},
   "outputs": [
    {
     "data": {
      "text/plain": [
       "market\n",
       "Sehore       6\n",
       "Rajkot       4\n",
       "Harda        4\n",
       "Mandsaur     3\n",
       "Rampurhat    2\n",
       "Dankaur      2\n",
       "Hapur        2\n",
       "Gazipur      2\n",
       "Gonda        2\n",
       "Hardoi       2\n",
       "Name: count, dtype: int64"
      ]
     },
     "execution_count": 23,
     "metadata": {},
     "output_type": "execute_result"
    }
   ],
   "source": [
    "top_10_market"
   ]
  },
  {
   "cell_type": "markdown",
   "id": "062b56b1",
   "metadata": {},
   "source": [
    "Sehore , Rajkot and Harda have the highest frequecy of distribution in our data       "
   ]
  },
  {
   "cell_type": "code",
   "execution_count": 24,
   "id": "8397feea",
   "metadata": {},
   "outputs": [
    {
     "data": {
      "text/plain": [
       "<Axes: ylabel='count'>"
      ]
     },
     "execution_count": 24,
     "metadata": {},
     "output_type": "execute_result"
    },
    {
     "data": {
      "image/png": "[encoded data removed]",
      "text/plain": [
       "<Figure size 1000x600 with 1 Axes>"
      ]
     },
     "metadata": {},
     "output_type": "display_data"
    }
   ],
   "source": [
    "plt.figure(figsize=(10 , 6))\n",
    "plt.style.use(\"fivethirtyeight\")\n",
    "explode = [0,0.1]\n",
    "df[\"district\"].value_counts(ascending=False).head(10).plot(kind=\"pie\", autopct='%1.1f%%', explode = [0.2,0.2,0.2, 0,0,0,0,0.09,0.09,0.09])"
   ]
  },
  {
   "cell_type": "code",
   "execution_count": 25,
   "id": "725c410d",
   "metadata": {},
   "outputs": [
    {
     "data": {
      "text/plain": [
       "array(['Wheat'], dtype=object)"
      ]
     },
     "execution_count": 25,
     "metadata": {},
     "output_type": "execute_result"
    }
   ],
   "source": [
    "df[\"commodity\"].unique()"
   ]
  },
  {
   "cell_type": "markdown",
   "id": "783ade07",
   "metadata": {},
   "source": [
    "we have only one unique category in the commodity column because we are working of the variety of wheat data set"
   ]
  },
  {
   "cell_type": "code",
   "execution_count": 26,
   "id": "75fc4fbb",
   "metadata": {},
   "outputs": [
    {
     "data": {
      "text/plain": [
       "commodity\n",
       "Wheat    384\n",
       "Name: count, dtype: int64"
      ]
     },
     "execution_count": 26,
     "metadata": {},
     "output_type": "execute_result"
    }
   ],
   "source": [
    "# lets check the value counts of the wheat\n",
    "df[\"commodity\"].value_counts()"
   ]
  },
  {
   "cell_type": "markdown",
   "id": "9850d9e1",
   "metadata": {},
   "source": [
    "so there are 384 total distribution , our data shape is also 384 to that means we have only wheat category and there are no missing values in this columns\n",
    "\n",
    "- so we dont need to visualize the commodity feature"
   ]
  },
  {
   "cell_type": "code",
   "execution_count": 27,
   "id": "0981d354",
   "metadata": {},
   "outputs": [
    {
     "data": {
      "text/html": [
       "<div>\n",
       "<style scoped>\n",
       "    .dataframe tbody tr th:only-of-type {\n",
       "        vertical-align: middle;\n",
       "    }\n",
       "\n",
       "    .dataframe tbody tr th {\n",
       "        vertical-align: top;\n",
       "    }\n",
       "\n",
       "    .dataframe thead th {\n",
       "        text-align: right;\n",
       "    }\n",
       "</style>\n",
       "<table border=\"1\" class=\"dataframe\">\n",
       "  <thead>\n",
       "    <tr style=\"text-align: right;\">\n",
       "      <th></th>\n",
       "      <th>state</th>\n",
       "      <th>district</th>\n",
       "      <th>market</th>\n",
       "      <th>commodity</th>\n",
       "      <th>variety</th>\n",
       "      <th>arrival_date</th>\n",
       "      <th>min_price</th>\n",
       "      <th>max_price</th>\n",
       "      <th>modal_price</th>\n",
       "      <th>update_date</th>\n",
       "    </tr>\n",
       "  </thead>\n",
       "  <tbody>\n",
       "    <tr>\n",
       "      <th>0</th>\n",
       "      <td>Bihar</td>\n",
       "      <td>Muzaffarpur</td>\n",
       "      <td>Muzaffarpur</td>\n",
       "      <td>Wheat</td>\n",
       "      <td>147 Average</td>\n",
       "      <td>01/01/2024</td>\n",
       "      <td>2500</td>\n",
       "      <td>2590</td>\n",
       "      <td>2550.0</td>\n",
       "      <td>2024-01-02</td>\n",
       "    </tr>\n",
       "    <tr>\n",
       "      <th>1</th>\n",
       "      <td>Gujarat</td>\n",
       "      <td>Amreli</td>\n",
       "      <td>Bagasara</td>\n",
       "      <td>Wheat</td>\n",
       "      <td>Lokwan Gujrat</td>\n",
       "      <td>02/01/2024</td>\n",
       "      <td>2370</td>\n",
       "      <td>2700</td>\n",
       "      <td>2535.0</td>\n",
       "      <td>2024-01-02</td>\n",
       "    </tr>\n",
       "    <tr>\n",
       "      <th>2</th>\n",
       "      <td>Gujarat</td>\n",
       "      <td>Anand</td>\n",
       "      <td>Khambhat(Grain Market)</td>\n",
       "      <td>Wheat</td>\n",
       "      <td>Other</td>\n",
       "      <td>02/01/2024</td>\n",
       "      <td>2000</td>\n",
       "      <td>2550</td>\n",
       "      <td>2250.0</td>\n",
       "      <td>2024-01-02</td>\n",
       "    </tr>\n",
       "    <tr>\n",
       "      <th>3</th>\n",
       "      <td>Gujarat</td>\n",
       "      <td>Banaskanth</td>\n",
       "      <td>Deesa</td>\n",
       "      <td>Wheat</td>\n",
       "      <td>Other</td>\n",
       "      <td>02/01/2024</td>\n",
       "      <td>2415</td>\n",
       "      <td>2590</td>\n",
       "      <td>2500.0</td>\n",
       "      <td>2024-01-02</td>\n",
       "    </tr>\n",
       "    <tr>\n",
       "      <th>4</th>\n",
       "      <td>Gujarat</td>\n",
       "      <td>Banaskanth</td>\n",
       "      <td>Dhanera</td>\n",
       "      <td>Wheat</td>\n",
       "      <td>Other</td>\n",
       "      <td>01/01/2024</td>\n",
       "      <td>2715</td>\n",
       "      <td>2715</td>\n",
       "      <td>2715.0</td>\n",
       "      <td>2024-01-02</td>\n",
       "    </tr>\n",
       "  </tbody>\n",
       "</table>\n",
       "</div>"
      ],
      "text/plain": [
       "     state     district                  market commodity        variety  \\\n",
       "0    Bihar  Muzaffarpur             Muzaffarpur     Wheat    147 Average   \n",
       "1  Gujarat       Amreli                Bagasara     Wheat  Lokwan Gujrat   \n",
       "2  Gujarat        Anand  Khambhat(Grain Market)     Wheat          Other   \n",
       "3  Gujarat   Banaskanth                   Deesa     Wheat          Other   \n",
       "4  Gujarat   Banaskanth                 Dhanera     Wheat          Other   \n",
       "\n",
       "  arrival_date  min_price  max_price  modal_price update_date  \n",
       "0   01/01/2024       2500       2590       2550.0  2024-01-02  \n",
       "1   02/01/2024       2370       2700       2535.0  2024-01-02  \n",
       "2   02/01/2024       2000       2550       2250.0  2024-01-02  \n",
       "3   02/01/2024       2415       2590       2500.0  2024-01-02  \n",
       "4   01/01/2024       2715       2715       2715.0  2024-01-02  "
      ]
     },
     "execution_count": 27,
     "metadata": {},
     "output_type": "execute_result"
    }
   ],
   "source": [
    "df.head()"
   ]
  },
  {
   "cell_type": "code",
   "execution_count": 28,
   "id": "b03b59bd",
   "metadata": {},
   "outputs": [
    {
     "data": {
      "text/plain": [
       "array(['147 Average', 'Lokwan Gujrat', 'Other', 'Lokwan', 'Deshi',\n",
       "       'Hybrid', 'Sharbati', 'PBW-373', 'Local', 'Medium', 'Mexican',\n",
       "       'Red', 'Sona', 'Jawari', 'Super Fine', 'Mill Quality',\n",
       "       'Maharashtra 2189', 'Kalyan', 'Dara', 'Sonalika'], dtype=object)"
      ]
     },
     "execution_count": 28,
     "metadata": {},
     "output_type": "execute_result"
    }
   ],
   "source": [
    "df[\"variety\"].unique()"
   ]
  },
  {
   "cell_type": "markdown",
   "id": "70691fef",
   "metadata": {},
   "source": [
    "there are many unique values in our data so lets find the frequecy disrtibution of the variety column"
   ]
  },
  {
   "cell_type": "code",
   "execution_count": 29,
   "id": "6e4ecb66",
   "metadata": {},
   "outputs": [
    {
     "data": {
      "text/plain": [
       "variety\n",
       "Dara                181\n",
       "Other                85\n",
       "Mill Quality         39\n",
       "Lokwan               22\n",
       "Sharbati             15\n",
       "Maharashtra 2189     12\n",
       "Sonalika              5\n",
       "Local                 4\n",
       "Lokwan Gujrat         4\n",
       "Hybrid                3\n",
       "Red                   2\n",
       "147 Average           2\n",
       "PBW-373               2\n",
       "Deshi                 2\n",
       "Sona                  1\n",
       "Jawari                1\n",
       "Super Fine            1\n",
       "Medium                1\n",
       "Kalyan                1\n",
       "Mexican               1\n",
       "Name: count, dtype: int64"
      ]
     },
     "execution_count": 29,
     "metadata": {},
     "output_type": "execute_result"
    }
   ],
   "source": [
    "df[\"variety\"].value_counts()"
   ]
  },
  {
   "cell_type": "markdown",
   "id": "af25510b",
   "metadata": {},
   "source": [
    " so lets see in the visualize form"
   ]
  },
  {
   "cell_type": "code",
   "execution_count": 30,
   "id": "0881d747",
   "metadata": {},
   "outputs": [
    {
     "data": {
      "text/plain": [
       "<Axes: xlabel='count', ylabel='variety'>"
      ]
     },
     "execution_count": 30,
     "metadata": {},
     "output_type": "execute_result"
    },
    {
     "data": {
      "image/png": "[encoded data removed]",
      "text/plain": [
       "<Figure size 1000x600 with 1 Axes>"
      ]
     },
     "metadata": {},
     "output_type": "display_data"
    }
   ],
   "source": [
    "plt.figure(figsize=(10 , 6))\n",
    "plt.style.use(\"fivethirtyeight\")\n",
    "sns.countplot(data = df , y = \"variety\",order = df[\"variety\"].value_counts(ascending=False).index)"
   ]
  },
  {
   "cell_type": "markdown",
   "id": "8ae276ad",
   "metadata": {},
   "source": [
    "Dara has the maximum count of 175 and mexican , kalyan , medium , super fine has the least of 0"
   ]
  },
  {
   "cell_type": "code",
   "execution_count": 31,
   "id": "efdc31c4",
   "metadata": {},
   "outputs": [
    {
     "data": {
      "text/plain": [
       "array(['01/01/2024', '02/01/2024'], dtype=object)"
      ]
     },
     "execution_count": 31,
     "metadata": {},
     "output_type": "execute_result"
    }
   ],
   "source": [
    "df[\"arrival_date\"].unique()"
   ]
  },
  {
   "cell_type": "code",
   "execution_count": 32,
   "id": "401ca4a5",
   "metadata": {},
   "outputs": [
    {
     "data": {
      "text/plain": [
       "arrival_date\n",
       "01/01/2024    254\n",
       "02/01/2024    130\n",
       "Name: count, dtype: int64"
      ]
     },
     "execution_count": 32,
     "metadata": {},
     "output_type": "execute_result"
    }
   ],
   "source": [
    "df[\"arrival_date\"].value_counts()"
   ]
  },
  {
   "cell_type": "code",
   "execution_count": 33,
   "id": "5ddee02d",
   "metadata": {},
   "outputs": [
    {
     "data": {
      "text/plain": [
       "<Axes: ylabel='count'>"
      ]
     },
     "execution_count": 33,
     "metadata": {},
     "output_type": "execute_result"
    },
    {
     "data": {
      "image/png": "[encoded data removed]",
      "text/plain": [
       "<Figure size 1000x500 with 1 Axes>"
      ]
     },
     "metadata": {},
     "output_type": "display_data"
    }
   ],
   "source": [
    "plt.figure(figsize=(10 , 5))\n",
    "plt.style.use(\"fivethirtyeight\")\n",
    "explode = [0,0.1]\n",
    "df[\"arrival_date\"].value_counts().plot(kind=\"pie\", autopct = '%1.1f%%', explode = [0,0.1])"
   ]
  },
  {
   "cell_type": "markdown",
   "id": "4811bcc9",
   "metadata": {},
   "source": [
    "we have more arrival date of 1 januaruy 2024 as compare to 2 january 2024"
   ]
  },
  {
   "cell_type": "code",
   "execution_count": 34,
   "id": "ea013d17",
   "metadata": {},
   "outputs": [
    {
     "data": {
      "text/plain": [
       "1750"
      ]
     },
     "execution_count": 34,
     "metadata": {},
     "output_type": "execute_result"
    }
   ],
   "source": [
    "df[\"min_price\"].min()"
   ]
  },
  {
   "cell_type": "code",
   "execution_count": 35,
   "id": "c97ec977",
   "metadata": {},
   "outputs": [
    {
     "data": {
      "text/plain": [
       "4701"
      ]
     },
     "execution_count": 35,
     "metadata": {},
     "output_type": "execute_result"
    }
   ],
   "source": [
    "df[\"min_price\"].max()"
   ]
  },
  {
   "cell_type": "code",
   "execution_count": 36,
   "id": "614c2630",
   "metadata": {},
   "outputs": [
    {
     "data": {
      "text/plain": [
       "2432.8463541666665"
      ]
     },
     "execution_count": 36,
     "metadata": {},
     "output_type": "execute_result"
    }
   ],
   "source": [
    "df[\"min_price\"].mean()"
   ]
  },
  {
   "cell_type": "code",
   "execution_count": 37,
   "id": "6822bf96",
   "metadata": {},
   "outputs": [
    {
     "data": {
      "text/plain": [
       "<Axes: xlabel='min_price', ylabel='Density'>"
      ]
     },
     "execution_count": 37,
     "metadata": {},
     "output_type": "execute_result"
    },
    {
     "data": {
      "image/png": "[encoded data removed]",
      "text/plain": [
       "<Figure size 1000x400 with 1 Axes>"
      ]
     },
     "metadata": {},
     "output_type": "display_data"
    }
   ],
   "source": [
    "plt.figure(figsize=(10 , 4))\n",
    "plt.style.use(\"fivethirtyeight\")\n",
    "sns.distplot(df[\"min_price\"])"
   ]
  },
  {
   "cell_type": "markdown",
   "id": "154b506f",
   "metadata": {},
   "source": [
    "From the above observation we can see that min_price feature is normally distributed\n",
    "- The values varies from 2000 to 3000\n",
    "- min price value is 1750\n",
    "- min price value is 4701\n",
    "- mean price value is 2432\n",
    "- and the standar deviation is approx 236"
   ]
  },
  {
   "cell_type": "code",
   "execution_count": 38,
   "id": "033a4335",
   "metadata": {},
   "outputs": [
    {
     "data": {
      "text/plain": [
       "1850"
      ]
     },
     "execution_count": 38,
     "metadata": {},
     "output_type": "execute_result"
    }
   ],
   "source": [
    "df[\"max_price\"].min()"
   ]
  },
  {
   "cell_type": "code",
   "execution_count": 39,
   "id": "f54877fe",
   "metadata": {},
   "outputs": [
    {
     "data": {
      "text/plain": [
       "4701"
      ]
     },
     "execution_count": 39,
     "metadata": {},
     "output_type": "execute_result"
    }
   ],
   "source": [
    "df[\"max_price\"].max()"
   ]
  },
  {
   "cell_type": "code",
   "execution_count": 40,
   "id": "8315bae1",
   "metadata": {},
   "outputs": [
    {
     "data": {
      "text/plain": [
       "2630.6432291666665"
      ]
     },
     "execution_count": 40,
     "metadata": {},
     "output_type": "execute_result"
    }
   ],
   "source": [
    "df[\"max_price\"].mean()"
   ]
  },
  {
   "cell_type": "code",
   "execution_count": 41,
   "id": "4e521b30",
   "metadata": {},
   "outputs": [
    {
     "data": {
      "text/plain": [
       "327.75220740363125"
      ]
     },
     "execution_count": 41,
     "metadata": {},
     "output_type": "execute_result"
    }
   ],
   "source": [
    "df[\"max_price\"].std()"
   ]
  },
  {
   "cell_type": "code",
   "execution_count": 42,
   "id": "766abda4",
   "metadata": {},
   "outputs": [
    {
     "data": {
      "text/plain": [
       "<Axes: xlabel='max_price', ylabel='Density'>"
      ]
     },
     "execution_count": 42,
     "metadata": {},
     "output_type": "execute_result"
    },
    {
     "data": {
      "image/png": "[encoded data removed]",
      "text/plain": [
       "<Figure size 1000x400 with 1 Axes>"
      ]
     },
     "metadata": {},
     "output_type": "display_data"
    }
   ],
   "source": [
    "plt.figure(figsize=(10 , 4))\n",
    "plt.style.use(\"fivethirtyeight\")\n",
    "sns.distplot(df[\"max_price\"])"
   ]
  },
  {
   "cell_type": "markdown",
   "id": "b2242da6",
   "metadata": {},
   "source": [
    "from the above observation we can see that our max-price feature is right skewed distributed\n",
    "from the above observation we can see that modalprice feature is also normal distrubuted \n",
    "- min price value is 1850\n",
    "- max price value is 4701\n",
    "- mean of max price is 2630\n",
    "- and the standar deviation is approx 327"
   ]
  },
  {
   "cell_type": "code",
   "execution_count": 43,
   "id": "f93eb1ef",
   "metadata": {},
   "outputs": [
    {
     "data": {
      "text/html": [
       "<div>\n",
       "<style scoped>\n",
       "    .dataframe tbody tr th:only-of-type {\n",
       "        vertical-align: middle;\n",
       "    }\n",
       "\n",
       "    .dataframe tbody tr th {\n",
       "        vertical-align: top;\n",
       "    }\n",
       "\n",
       "    .dataframe thead th {\n",
       "        text-align: right;\n",
       "    }\n",
       "</style>\n",
       "<table border=\"1\" class=\"dataframe\">\n",
       "  <thead>\n",
       "    <tr style=\"text-align: right;\">\n",
       "      <th></th>\n",
       "      <th>state</th>\n",
       "      <th>district</th>\n",
       "      <th>market</th>\n",
       "      <th>commodity</th>\n",
       "      <th>variety</th>\n",
       "      <th>arrival_date</th>\n",
       "      <th>min_price</th>\n",
       "      <th>max_price</th>\n",
       "      <th>modal_price</th>\n",
       "      <th>update_date</th>\n",
       "    </tr>\n",
       "  </thead>\n",
       "  <tbody>\n",
       "    <tr>\n",
       "      <th>0</th>\n",
       "      <td>Bihar</td>\n",
       "      <td>Muzaffarpur</td>\n",
       "      <td>Muzaffarpur</td>\n",
       "      <td>Wheat</td>\n",
       "      <td>147 Average</td>\n",
       "      <td>01/01/2024</td>\n",
       "      <td>2500</td>\n",
       "      <td>2590</td>\n",
       "      <td>2550.0</td>\n",
       "      <td>2024-01-02</td>\n",
       "    </tr>\n",
       "    <tr>\n",
       "      <th>1</th>\n",
       "      <td>Gujarat</td>\n",
       "      <td>Amreli</td>\n",
       "      <td>Bagasara</td>\n",
       "      <td>Wheat</td>\n",
       "      <td>Lokwan Gujrat</td>\n",
       "      <td>02/01/2024</td>\n",
       "      <td>2370</td>\n",
       "      <td>2700</td>\n",
       "      <td>2535.0</td>\n",
       "      <td>2024-01-02</td>\n",
       "    </tr>\n",
       "    <tr>\n",
       "      <th>2</th>\n",
       "      <td>Gujarat</td>\n",
       "      <td>Anand</td>\n",
       "      <td>Khambhat(Grain Market)</td>\n",
       "      <td>Wheat</td>\n",
       "      <td>Other</td>\n",
       "      <td>02/01/2024</td>\n",
       "      <td>2000</td>\n",
       "      <td>2550</td>\n",
       "      <td>2250.0</td>\n",
       "      <td>2024-01-02</td>\n",
       "    </tr>\n",
       "    <tr>\n",
       "      <th>3</th>\n",
       "      <td>Gujarat</td>\n",
       "      <td>Banaskanth</td>\n",
       "      <td>Deesa</td>\n",
       "      <td>Wheat</td>\n",
       "      <td>Other</td>\n",
       "      <td>02/01/2024</td>\n",
       "      <td>2415</td>\n",
       "      <td>2590</td>\n",
       "      <td>2500.0</td>\n",
       "      <td>2024-01-02</td>\n",
       "    </tr>\n",
       "    <tr>\n",
       "      <th>4</th>\n",
       "      <td>Gujarat</td>\n",
       "      <td>Banaskanth</td>\n",
       "      <td>Dhanera</td>\n",
       "      <td>Wheat</td>\n",
       "      <td>Other</td>\n",
       "      <td>01/01/2024</td>\n",
       "      <td>2715</td>\n",
       "      <td>2715</td>\n",
       "      <td>2715.0</td>\n",
       "      <td>2024-01-02</td>\n",
       "    </tr>\n",
       "  </tbody>\n",
       "</table>\n",
       "</div>"
      ],
      "text/plain": [
       "     state     district                  market commodity        variety  \\\n",
       "0    Bihar  Muzaffarpur             Muzaffarpur     Wheat    147 Average   \n",
       "1  Gujarat       Amreli                Bagasara     Wheat  Lokwan Gujrat   \n",
       "2  Gujarat        Anand  Khambhat(Grain Market)     Wheat          Other   \n",
       "3  Gujarat   Banaskanth                   Deesa     Wheat          Other   \n",
       "4  Gujarat   Banaskanth                 Dhanera     Wheat          Other   \n",
       "\n",
       "  arrival_date  min_price  max_price  modal_price update_date  \n",
       "0   01/01/2024       2500       2590       2550.0  2024-01-02  \n",
       "1   02/01/2024       2370       2700       2535.0  2024-01-02  \n",
       "2   02/01/2024       2000       2550       2250.0  2024-01-02  \n",
       "3   02/01/2024       2415       2590       2500.0  2024-01-02  \n",
       "4   01/01/2024       2715       2715       2715.0  2024-01-02  "
      ]
     },
     "execution_count": 43,
     "metadata": {},
     "output_type": "execute_result"
    }
   ],
   "source": [
    "df.head()"
   ]
  },
  {
   "cell_type": "code",
   "execution_count": 44,
   "id": "caa8c8c5",
   "metadata": {},
   "outputs": [
    {
     "data": {
      "text/plain": [
       "1800.0"
      ]
     },
     "execution_count": 44,
     "metadata": {},
     "output_type": "execute_result"
    }
   ],
   "source": [
    "df[\"modal_price\"].min()"
   ]
  },
  {
   "cell_type": "code",
   "execution_count": 45,
   "id": "733d296e",
   "metadata": {},
   "outputs": [
    {
     "data": {
      "text/plain": [
       "4100.0"
      ]
     },
     "execution_count": 45,
     "metadata": {},
     "output_type": "execute_result"
    }
   ],
   "source": [
    "df[\"modal_price\"].max()"
   ]
  },
  {
   "cell_type": "code",
   "execution_count": 46,
   "id": "e0f20de3",
   "metadata": {},
   "outputs": [
    {
     "data": {
      "text/plain": [
       "235.9559059191298"
      ]
     },
     "execution_count": 46,
     "metadata": {},
     "output_type": "execute_result"
    }
   ],
   "source": [
    "df[\"modal_price\"].std()"
   ]
  },
  {
   "cell_type": "code",
   "execution_count": 47,
   "id": "35178367",
   "metadata": {},
   "outputs": [
    {
     "data": {
      "text/plain": [
       "<Axes: xlabel='modal_price', ylabel='Density'>"
      ]
     },
     "execution_count": 47,
     "metadata": {},
     "output_type": "execute_result"
    },
    {
     "data": {
      "image/png": "[encoded data removed]",
      "text/plain": [
       "<Figure size 1000x400 with 1 Axes>"
      ]
     },
     "metadata": {},
     "output_type": "display_data"
    }
   ],
   "source": [
    "plt.figure(figsize=(10 , 4))\n",
    "plt.style.use(\"fivethirtyeight\")\n",
    "sns.distplot(df[\"modal_price\"])"
   ]
  },
  {
   "cell_type": "markdown",
   "id": "fbf417ba",
   "metadata": {},
   "source": [
    "from the above observation we can see that modalprice feature is also normal distrubuted \n",
    "- min model price value is 1800\n",
    "- max modal price value is 4100\n",
    "- and the standar deviation is approx 236"
   ]
  },
  {
   "cell_type": "code",
   "execution_count": 48,
   "id": "8bc6932b",
   "metadata": {},
   "outputs": [
    {
     "data": {
      "text/plain": [
       "array(['2024-01-02'], dtype=object)"
      ]
     },
     "execution_count": 48,
     "metadata": {},
     "output_type": "execute_result"
    }
   ],
   "source": [
    "# checking the last update date column\n",
    "df[\"update_date\"].unique()"
   ]
  },
  {
   "cell_type": "markdown",
   "id": "3cf28b19",
   "metadata": {},
   "source": [
    "so there is only one unique value is present in our data set"
   ]
  },
  {
   "cell_type": "code",
   "execution_count": 49,
   "id": "93788830",
   "metadata": {},
   "outputs": [
    {
     "data": {
      "text/html": [
       "<div>\n",
       "<style scoped>\n",
       "    .dataframe tbody tr th:only-of-type {\n",
       "        vertical-align: middle;\n",
       "    }\n",
       "\n",
       "    .dataframe tbody tr th {\n",
       "        vertical-align: top;\n",
       "    }\n",
       "\n",
       "    .dataframe thead th {\n",
       "        text-align: right;\n",
       "    }\n",
       "</style>\n",
       "<table border=\"1\" class=\"dataframe\">\n",
       "  <thead>\n",
       "    <tr style=\"text-align: right;\">\n",
       "      <th></th>\n",
       "      <th>state</th>\n",
       "      <th>district</th>\n",
       "      <th>market</th>\n",
       "      <th>commodity</th>\n",
       "      <th>variety</th>\n",
       "      <th>arrival_date</th>\n",
       "      <th>min_price</th>\n",
       "      <th>max_price</th>\n",
       "      <th>modal_price</th>\n",
       "      <th>update_date</th>\n",
       "    </tr>\n",
       "  </thead>\n",
       "  <tbody>\n",
       "    <tr>\n",
       "      <th>0</th>\n",
       "      <td>Bihar</td>\n",
       "      <td>Muzaffarpur</td>\n",
       "      <td>Muzaffarpur</td>\n",
       "      <td>Wheat</td>\n",
       "      <td>147 Average</td>\n",
       "      <td>01/01/2024</td>\n",
       "      <td>2500</td>\n",
       "      <td>2590</td>\n",
       "      <td>2550.0</td>\n",
       "      <td>2024-01-02</td>\n",
       "    </tr>\n",
       "    <tr>\n",
       "      <th>1</th>\n",
       "      <td>Gujarat</td>\n",
       "      <td>Amreli</td>\n",
       "      <td>Bagasara</td>\n",
       "      <td>Wheat</td>\n",
       "      <td>Lokwan Gujrat</td>\n",
       "      <td>02/01/2024</td>\n",
       "      <td>2370</td>\n",
       "      <td>2700</td>\n",
       "      <td>2535.0</td>\n",
       "      <td>2024-01-02</td>\n",
       "    </tr>\n",
       "    <tr>\n",
       "      <th>2</th>\n",
       "      <td>Gujarat</td>\n",
       "      <td>Anand</td>\n",
       "      <td>Khambhat(Grain Market)</td>\n",
       "      <td>Wheat</td>\n",
       "      <td>Other</td>\n",
       "      <td>02/01/2024</td>\n",
       "      <td>2000</td>\n",
       "      <td>2550</td>\n",
       "      <td>2250.0</td>\n",
       "      <td>2024-01-02</td>\n",
       "    </tr>\n",
       "    <tr>\n",
       "      <th>3</th>\n",
       "      <td>Gujarat</td>\n",
       "      <td>Banaskanth</td>\n",
       "      <td>Deesa</td>\n",
       "      <td>Wheat</td>\n",
       "      <td>Other</td>\n",
       "      <td>02/01/2024</td>\n",
       "      <td>2415</td>\n",
       "      <td>2590</td>\n",
       "      <td>2500.0</td>\n",
       "      <td>2024-01-02</td>\n",
       "    </tr>\n",
       "    <tr>\n",
       "      <th>4</th>\n",
       "      <td>Gujarat</td>\n",
       "      <td>Banaskanth</td>\n",
       "      <td>Dhanera</td>\n",
       "      <td>Wheat</td>\n",
       "      <td>Other</td>\n",
       "      <td>01/01/2024</td>\n",
       "      <td>2715</td>\n",
       "      <td>2715</td>\n",
       "      <td>2715.0</td>\n",
       "      <td>2024-01-02</td>\n",
       "    </tr>\n",
       "  </tbody>\n",
       "</table>\n",
       "</div>"
      ],
      "text/plain": [
       "     state     district                  market commodity        variety  \\\n",
       "0    Bihar  Muzaffarpur             Muzaffarpur     Wheat    147 Average   \n",
       "1  Gujarat       Amreli                Bagasara     Wheat  Lokwan Gujrat   \n",
       "2  Gujarat        Anand  Khambhat(Grain Market)     Wheat          Other   \n",
       "3  Gujarat   Banaskanth                   Deesa     Wheat          Other   \n",
       "4  Gujarat   Banaskanth                 Dhanera     Wheat          Other   \n",
       "\n",
       "  arrival_date  min_price  max_price  modal_price update_date  \n",
       "0   01/01/2024       2500       2590       2550.0  2024-01-02  \n",
       "1   02/01/2024       2370       2700       2535.0  2024-01-02  \n",
       "2   02/01/2024       2000       2550       2250.0  2024-01-02  \n",
       "3   02/01/2024       2415       2590       2500.0  2024-01-02  \n",
       "4   01/01/2024       2715       2715       2715.0  2024-01-02  "
      ]
     },
     "execution_count": 49,
     "metadata": {},
     "output_type": "execute_result"
    }
   ],
   "source": [
    "df.head()"
   ]
  },
  {
   "cell_type": "markdown",
   "id": "42a6cf5e",
   "metadata": {},
   "source": [
    "### Lets check if any outlier are their in our data set"
   ]
  },
  {
   "cell_type": "code",
   "execution_count": 50,
   "id": "d08ebbbf",
   "metadata": {},
   "outputs": [
    {
     "data": {
      "text/plain": [
       "<Axes: >"
      ]
     },
     "execution_count": 50,
     "metadata": {},
     "output_type": "execute_result"
    },
    {
     "data": {
      "image/png": "[encoded data removed]",
      "text/plain": [
       "<Figure size 1000x500 with 1 Axes>"
      ]
     },
     "metadata": {},
     "output_type": "display_data"
    }
   ],
   "source": [
    "# box plot\n",
    "plt.figure(figsize=(10 ,5))\n",
    "plt.style.use(\"fivethirtyeight\")\n",
    "sns.boxplot(df)"
   ]
  },
  {
   "cell_type": "markdown",
   "id": "f451aec2",
   "metadata": {},
   "source": [
    "from the above execution we can see that there are many outlier in our min price , max price and modal price column\n",
    "- so we have to handle it in feature engineering"
   ]
  },
  {
   "cell_type": "code",
   "execution_count": 51,
   "id": "414448e3",
   "metadata": {},
   "outputs": [
    {
     "data": {
      "text/plain": [
       "<Axes: xlabel='modal_price', ylabel='variety'>"
      ]
     },
     "execution_count": 51,
     "metadata": {},
     "output_type": "execute_result"
    },
    {
     "data": {
      "image/png": "[encoded data removed]",
      "text/plain": [
       "<Figure size 1300x800 with 1 Axes>"
      ]
     },
     "metadata": {},
     "output_type": "display_data"
    }
   ],
   "source": [
    "plt.style.use(\"fivethirtyeight\")\n",
    "plt.figure(figsize=(13,8))\n",
    "sns.barplot(y = df.variety ,x = df.modal_price)"
   ]
  },
  {
   "cell_type": "code",
   "execution_count": 52,
   "id": "48e9defe",
   "metadata": {},
   "outputs": [
    {
     "data": {
      "text/plain": [
       "<Axes: xlabel='state', ylabel='modal_price'>"
      ]
     },
     "execution_count": 52,
     "metadata": {},
     "output_type": "execute_result"
    },
    {
     "data": {
      "image/png": "[encoded data removed]",
      "text/plain": [
       "<Figure size 1300x800 with 1 Axes>"
      ]
     },
     "metadata": {},
     "output_type": "display_data"
    }
   ],
   "source": [
    "plt.style.use(\"fivethirtyeight\")\n",
    "plt.figure(figsize=(13,8))\n",
    "sns.barplot(x = df.state ,y = df.modal_price)"
   ]
  },
  {
   "cell_type": "markdown",
   "id": "2168c8e3",
   "metadata": {},
   "source": [
    "### Feature Engineering"
   ]
  },
  {
   "cell_type": "code",
   "execution_count": 53,
   "id": "d009e4f8",
   "metadata": {},
   "outputs": [
    {
     "data": {
      "text/html": [
       "<div>\n",
       "<style scoped>\n",
       "    .dataframe tbody tr th:only-of-type {\n",
       "        vertical-align: middle;\n",
       "    }\n",
       "\n",
       "    .dataframe tbody tr th {\n",
       "        vertical-align: top;\n",
       "    }\n",
       "\n",
       "    .dataframe thead th {\n",
       "        text-align: right;\n",
       "    }\n",
       "</style>\n",
       "<table border=\"1\" class=\"dataframe\">\n",
       "  <thead>\n",
       "    <tr style=\"text-align: right;\">\n",
       "      <th></th>\n",
       "      <th>state</th>\n",
       "      <th>district</th>\n",
       "      <th>market</th>\n",
       "      <th>commodity</th>\n",
       "      <th>variety</th>\n",
       "      <th>arrival_date</th>\n",
       "      <th>min_price</th>\n",
       "      <th>max_price</th>\n",
       "      <th>modal_price</th>\n",
       "      <th>update_date</th>\n",
       "    </tr>\n",
       "  </thead>\n",
       "  <tbody>\n",
       "    <tr>\n",
       "      <th>0</th>\n",
       "      <td>Bihar</td>\n",
       "      <td>Muzaffarpur</td>\n",
       "      <td>Muzaffarpur</td>\n",
       "      <td>Wheat</td>\n",
       "      <td>147 Average</td>\n",
       "      <td>01/01/2024</td>\n",
       "      <td>2500</td>\n",
       "      <td>2590</td>\n",
       "      <td>2550.0</td>\n",
       "      <td>2024-01-02</td>\n",
       "    </tr>\n",
       "    <tr>\n",
       "      <th>1</th>\n",
       "      <td>Gujarat</td>\n",
       "      <td>Amreli</td>\n",
       "      <td>Bagasara</td>\n",
       "      <td>Wheat</td>\n",
       "      <td>Lokwan Gujrat</td>\n",
       "      <td>02/01/2024</td>\n",
       "      <td>2370</td>\n",
       "      <td>2700</td>\n",
       "      <td>2535.0</td>\n",
       "      <td>2024-01-02</td>\n",
       "    </tr>\n",
       "    <tr>\n",
       "      <th>2</th>\n",
       "      <td>Gujarat</td>\n",
       "      <td>Anand</td>\n",
       "      <td>Khambhat(Grain Market)</td>\n",
       "      <td>Wheat</td>\n",
       "      <td>Other</td>\n",
       "      <td>02/01/2024</td>\n",
       "      <td>2000</td>\n",
       "      <td>2550</td>\n",
       "      <td>2250.0</td>\n",
       "      <td>2024-01-02</td>\n",
       "    </tr>\n",
       "    <tr>\n",
       "      <th>3</th>\n",
       "      <td>Gujarat</td>\n",
       "      <td>Banaskanth</td>\n",
       "      <td>Deesa</td>\n",
       "      <td>Wheat</td>\n",
       "      <td>Other</td>\n",
       "      <td>02/01/2024</td>\n",
       "      <td>2415</td>\n",
       "      <td>2590</td>\n",
       "      <td>2500.0</td>\n",
       "      <td>2024-01-02</td>\n",
       "    </tr>\n",
       "    <tr>\n",
       "      <th>4</th>\n",
       "      <td>Gujarat</td>\n",
       "      <td>Banaskanth</td>\n",
       "      <td>Dhanera</td>\n",
       "      <td>Wheat</td>\n",
       "      <td>Other</td>\n",
       "      <td>01/01/2024</td>\n",
       "      <td>2715</td>\n",
       "      <td>2715</td>\n",
       "      <td>2715.0</td>\n",
       "      <td>2024-01-02</td>\n",
       "    </tr>\n",
       "  </tbody>\n",
       "</table>\n",
       "</div>"
      ],
      "text/plain": [
       "     state     district                  market commodity        variety  \\\n",
       "0    Bihar  Muzaffarpur             Muzaffarpur     Wheat    147 Average   \n",
       "1  Gujarat       Amreli                Bagasara     Wheat  Lokwan Gujrat   \n",
       "2  Gujarat        Anand  Khambhat(Grain Market)     Wheat          Other   \n",
       "3  Gujarat   Banaskanth                   Deesa     Wheat          Other   \n",
       "4  Gujarat   Banaskanth                 Dhanera     Wheat          Other   \n",
       "\n",
       "  arrival_date  min_price  max_price  modal_price update_date  \n",
       "0   01/01/2024       2500       2590       2550.0  2024-01-02  \n",
       "1   02/01/2024       2370       2700       2535.0  2024-01-02  \n",
       "2   02/01/2024       2000       2550       2250.0  2024-01-02  \n",
       "3   02/01/2024       2415       2590       2500.0  2024-01-02  \n",
       "4   01/01/2024       2715       2715       2715.0  2024-01-02  "
      ]
     },
     "execution_count": 53,
     "metadata": {},
     "output_type": "execute_result"
    }
   ],
   "source": [
    "df.head()"
   ]
  },
  {
   "cell_type": "code",
   "execution_count": 54,
   "id": "d2e690b3",
   "metadata": {},
   "outputs": [],
   "source": [
    "df[\"arrival_date\"] = pd.to_datetime(df[\"arrival_date\"], format='%d/%m/%Y')"
   ]
  },
  {
   "cell_type": "code",
   "execution_count": 55,
   "id": "2bd0cd82",
   "metadata": {},
   "outputs": [
    {
     "data": {
      "text/html": [
       "<div>\n",
       "<style scoped>\n",
       "    .dataframe tbody tr th:only-of-type {\n",
       "        vertical-align: middle;\n",
       "    }\n",
       "\n",
       "    .dataframe tbody tr th {\n",
       "        vertical-align: top;\n",
       "    }\n",
       "\n",
       "    .dataframe thead th {\n",
       "        text-align: right;\n",
       "    }\n",
       "</style>\n",
       "<table border=\"1\" class=\"dataframe\">\n",
       "  <thead>\n",
       "    <tr style=\"text-align: right;\">\n",
       "      <th></th>\n",
       "      <th>state</th>\n",
       "      <th>district</th>\n",
       "      <th>market</th>\n",
       "      <th>commodity</th>\n",
       "      <th>variety</th>\n",
       "      <th>arrival_date</th>\n",
       "      <th>min_price</th>\n",
       "      <th>max_price</th>\n",
       "      <th>modal_price</th>\n",
       "      <th>update_date</th>\n",
       "    </tr>\n",
       "  </thead>\n",
       "  <tbody>\n",
       "    <tr>\n",
       "      <th>0</th>\n",
       "      <td>Bihar</td>\n",
       "      <td>Muzaffarpur</td>\n",
       "      <td>Muzaffarpur</td>\n",
       "      <td>Wheat</td>\n",
       "      <td>147 Average</td>\n",
       "      <td>2024-01-01</td>\n",
       "      <td>2500</td>\n",
       "      <td>2590</td>\n",
       "      <td>2550.0</td>\n",
       "      <td>2024-01-02</td>\n",
       "    </tr>\n",
       "    <tr>\n",
       "      <th>1</th>\n",
       "      <td>Gujarat</td>\n",
       "      <td>Amreli</td>\n",
       "      <td>Bagasara</td>\n",
       "      <td>Wheat</td>\n",
       "      <td>Lokwan Gujrat</td>\n",
       "      <td>2024-01-02</td>\n",
       "      <td>2370</td>\n",
       "      <td>2700</td>\n",
       "      <td>2535.0</td>\n",
       "      <td>2024-01-02</td>\n",
       "    </tr>\n",
       "    <tr>\n",
       "      <th>2</th>\n",
       "      <td>Gujarat</td>\n",
       "      <td>Anand</td>\n",
       "      <td>Khambhat(Grain Market)</td>\n",
       "      <td>Wheat</td>\n",
       "      <td>Other</td>\n",
       "      <td>2024-01-02</td>\n",
       "      <td>2000</td>\n",
       "      <td>2550</td>\n",
       "      <td>2250.0</td>\n",
       "      <td>2024-01-02</td>\n",
       "    </tr>\n",
       "    <tr>\n",
       "      <th>3</th>\n",
       "      <td>Gujarat</td>\n",
       "      <td>Banaskanth</td>\n",
       "      <td>Deesa</td>\n",
       "      <td>Wheat</td>\n",
       "      <td>Other</td>\n",
       "      <td>2024-01-02</td>\n",
       "      <td>2415</td>\n",
       "      <td>2590</td>\n",
       "      <td>2500.0</td>\n",
       "      <td>2024-01-02</td>\n",
       "    </tr>\n",
       "    <tr>\n",
       "      <th>4</th>\n",
       "      <td>Gujarat</td>\n",
       "      <td>Banaskanth</td>\n",
       "      <td>Dhanera</td>\n",
       "      <td>Wheat</td>\n",
       "      <td>Other</td>\n",
       "      <td>2024-01-01</td>\n",
       "      <td>2715</td>\n",
       "      <td>2715</td>\n",
       "      <td>2715.0</td>\n",
       "      <td>2024-01-02</td>\n",
       "    </tr>\n",
       "  </tbody>\n",
       "</table>\n",
       "</div>"
      ],
      "text/plain": [
       "     state     district                  market commodity        variety  \\\n",
       "0    Bihar  Muzaffarpur             Muzaffarpur     Wheat    147 Average   \n",
       "1  Gujarat       Amreli                Bagasara     Wheat  Lokwan Gujrat   \n",
       "2  Gujarat        Anand  Khambhat(Grain Market)     Wheat          Other   \n",
       "3  Gujarat   Banaskanth                   Deesa     Wheat          Other   \n",
       "4  Gujarat   Banaskanth                 Dhanera     Wheat          Other   \n",
       "\n",
       "  arrival_date  min_price  max_price  modal_price update_date  \n",
       "0   2024-01-01       2500       2590       2550.0  2024-01-02  \n",
       "1   2024-01-02       2370       2700       2535.0  2024-01-02  \n",
       "2   2024-01-02       2000       2550       2250.0  2024-01-02  \n",
       "3   2024-01-02       2415       2590       2500.0  2024-01-02  \n",
       "4   2024-01-01       2715       2715       2715.0  2024-01-02  "
      ]
     },
     "execution_count": 55,
     "metadata": {},
     "output_type": "execute_result"
    }
   ],
   "source": [
    "df.head()"
   ]
  },
  {
   "cell_type": "code",
   "execution_count": 56,
   "id": "61d27195",
   "metadata": {},
   "outputs": [],
   "source": [
    "df.drop([\"market\", \"district\", \"commodity\", \"update_date\"], axis=1 , inplace=True)"
   ]
  },
  {
   "cell_type": "code",
   "execution_count": 57,
   "id": "29d45234",
   "metadata": {},
   "outputs": [
    {
     "name": "stdout",
     "output_type": "stream",
     "text": [
      "<class 'pandas.core.frame.DataFrame'>\n",
      "RangeIndex: 384 entries, 0 to 383\n",
      "Data columns (total 6 columns):\n",
      " #   Column        Non-Null Count  Dtype         \n",
      "---  ------        --------------  -----         \n",
      " 0   state         384 non-null    object        \n",
      " 1   variety       384 non-null    object        \n",
      " 2   arrival_date  384 non-null    datetime64[ns]\n",
      " 3   min_price     384 non-null    int64         \n",
      " 4   max_price     384 non-null    int64         \n",
      " 5   modal_price   384 non-null    float64       \n",
      "dtypes: datetime64[ns](1), float64(1), int64(2), object(2)\n",
      "memory usage: 18.1+ KB\n"
     ]
    }
   ],
   "source": [
    "\n",
    "df.info()"
   ]
  },
  {
   "cell_type": "code",
   "execution_count": 58,
   "id": "89e2d6f6",
   "metadata": {},
   "outputs": [],
   "source": [
    "cat_feature = [feature for feature in df.columns if df[feature].dtypes == \"O\"]"
   ]
  },
  {
   "cell_type": "code",
   "execution_count": 59,
   "id": "a86295cc",
   "metadata": {},
   "outputs": [
    {
     "data": {
      "text/plain": [
       "['state', 'variety']"
      ]
     },
     "execution_count": 59,
     "metadata": {},
     "output_type": "execute_result"
    }
   ],
   "source": [
    "cat_feature"
   ]
  },
  {
   "cell_type": "code",
   "execution_count": 60,
   "id": "c2f184dc",
   "metadata": {},
   "outputs": [],
   "source": [
    "le = LabelEncoder()\n",
    "for i in cat_feature:\n",
    "    df[i] = le.fit_transform(df[i]) "
   ]
  },
  {
   "cell_type": "code",
   "execution_count": 61,
   "id": "e3752f9d",
   "metadata": {},
   "outputs": [
    {
     "data": {
      "text/html": [
       "<div>\n",
       "<style scoped>\n",
       "    .dataframe tbody tr th:only-of-type {\n",
       "        vertical-align: middle;\n",
       "    }\n",
       "\n",
       "    .dataframe tbody tr th {\n",
       "        vertical-align: top;\n",
       "    }\n",
       "\n",
       "    .dataframe thead th {\n",
       "        text-align: right;\n",
       "    }\n",
       "</style>\n",
       "<table border=\"1\" class=\"dataframe\">\n",
       "  <thead>\n",
       "    <tr style=\"text-align: right;\">\n",
       "      <th></th>\n",
       "      <th>state</th>\n",
       "      <th>variety</th>\n",
       "      <th>arrival_date</th>\n",
       "      <th>min_price</th>\n",
       "      <th>max_price</th>\n",
       "      <th>modal_price</th>\n",
       "    </tr>\n",
       "  </thead>\n",
       "  <tbody>\n",
       "    <tr>\n",
       "      <th>0</th>\n",
       "      <td>0</td>\n",
       "      <td>0</td>\n",
       "      <td>2024-01-01</td>\n",
       "      <td>2500</td>\n",
       "      <td>2590</td>\n",
       "      <td>2550.0</td>\n",
       "    </tr>\n",
       "    <tr>\n",
       "      <th>1</th>\n",
       "      <td>1</td>\n",
       "      <td>8</td>\n",
       "      <td>2024-01-02</td>\n",
       "      <td>2370</td>\n",
       "      <td>2700</td>\n",
       "      <td>2535.0</td>\n",
       "    </tr>\n",
       "    <tr>\n",
       "      <th>2</th>\n",
       "      <td>1</td>\n",
       "      <td>13</td>\n",
       "      <td>2024-01-02</td>\n",
       "      <td>2000</td>\n",
       "      <td>2550</td>\n",
       "      <td>2250.0</td>\n",
       "    </tr>\n",
       "    <tr>\n",
       "      <th>3</th>\n",
       "      <td>1</td>\n",
       "      <td>13</td>\n",
       "      <td>2024-01-02</td>\n",
       "      <td>2415</td>\n",
       "      <td>2590</td>\n",
       "      <td>2500.0</td>\n",
       "    </tr>\n",
       "    <tr>\n",
       "      <th>4</th>\n",
       "      <td>1</td>\n",
       "      <td>13</td>\n",
       "      <td>2024-01-01</td>\n",
       "      <td>2715</td>\n",
       "      <td>2715</td>\n",
       "      <td>2715.0</td>\n",
       "    </tr>\n",
       "  </tbody>\n",
       "</table>\n",
       "</div>"
      ],
      "text/plain": [
       "   state  variety arrival_date  min_price  max_price  modal_price\n",
       "0      0        0   2024-01-01       2500       2590       2550.0\n",
       "1      1        8   2024-01-02       2370       2700       2535.0\n",
       "2      1       13   2024-01-02       2000       2550       2250.0\n",
       "3      1       13   2024-01-02       2415       2590       2500.0\n",
       "4      1       13   2024-01-01       2715       2715       2715.0"
      ]
     },
     "execution_count": 61,
     "metadata": {},
     "output_type": "execute_result"
    }
   ],
   "source": [
    "df.head()"
   ]
  },
  {
   "cell_type": "code",
   "execution_count": 62,
   "id": "49d0a3c5",
   "metadata": {},
   "outputs": [
    {
     "data": {
      "text/plain": [
       "state\n",
       "6    182\n",
       "4     74\n",
       "3     66\n",
       "1     27\n",
       "5     21\n",
       "2      8\n",
       "7      5\n",
       "0      1\n",
       "Name: count, dtype: int64"
      ]
     },
     "execution_count": 62,
     "metadata": {},
     "output_type": "execute_result"
    }
   ],
   "source": [
    "df[\"state\"].value_counts()"
   ]
  },
  {
   "cell_type": "code",
   "execution_count": 63,
   "id": "9280b647",
   "metadata": {},
   "outputs": [
    {
     "data": {
      "text/plain": [
       "variety\n",
       "1     181\n",
       "13     85\n",
       "12     39\n",
       "7      22\n",
       "16     15\n",
       "9      12\n",
       "18      5\n",
       "6       4\n",
       "8       4\n",
       "3       3\n",
       "15      2\n",
       "0       2\n",
       "14      2\n",
       "2       2\n",
       "17      1\n",
       "4       1\n",
       "19      1\n",
       "10      1\n",
       "5       1\n",
       "11      1\n",
       "Name: count, dtype: int64"
      ]
     },
     "execution_count": 63,
     "metadata": {},
     "output_type": "execute_result"
    }
   ],
   "source": [
    "df[\"variety\"].value_counts()"
   ]
  },
  {
   "cell_type": "code",
   "execution_count": 64,
   "id": "2f03106d",
   "metadata": {},
   "outputs": [
    {
     "data": {
      "text/html": [
       "<div>\n",
       "<style scoped>\n",
       "    .dataframe tbody tr th:only-of-type {\n",
       "        vertical-align: middle;\n",
       "    }\n",
       "\n",
       "    .dataframe tbody tr th {\n",
       "        vertical-align: top;\n",
       "    }\n",
       "\n",
       "    .dataframe thead th {\n",
       "        text-align: right;\n",
       "    }\n",
       "</style>\n",
       "<table border=\"1\" class=\"dataframe\">\n",
       "  <thead>\n",
       "    <tr style=\"text-align: right;\">\n",
       "      <th></th>\n",
       "      <th>state</th>\n",
       "      <th>variety</th>\n",
       "      <th>arrival_date</th>\n",
       "      <th>min_price</th>\n",
       "      <th>max_price</th>\n",
       "      <th>modal_price</th>\n",
       "    </tr>\n",
       "  </thead>\n",
       "  <tbody>\n",
       "    <tr>\n",
       "      <th>0</th>\n",
       "      <td>0</td>\n",
       "      <td>0</td>\n",
       "      <td>2024-01-01</td>\n",
       "      <td>2500</td>\n",
       "      <td>2590</td>\n",
       "      <td>2550.0</td>\n",
       "    </tr>\n",
       "    <tr>\n",
       "      <th>1</th>\n",
       "      <td>1</td>\n",
       "      <td>8</td>\n",
       "      <td>2024-01-02</td>\n",
       "      <td>2370</td>\n",
       "      <td>2700</td>\n",
       "      <td>2535.0</td>\n",
       "    </tr>\n",
       "    <tr>\n",
       "      <th>2</th>\n",
       "      <td>1</td>\n",
       "      <td>13</td>\n",
       "      <td>2024-01-02</td>\n",
       "      <td>2000</td>\n",
       "      <td>2550</td>\n",
       "      <td>2250.0</td>\n",
       "    </tr>\n",
       "    <tr>\n",
       "      <th>3</th>\n",
       "      <td>1</td>\n",
       "      <td>13</td>\n",
       "      <td>2024-01-02</td>\n",
       "      <td>2415</td>\n",
       "      <td>2590</td>\n",
       "      <td>2500.0</td>\n",
       "    </tr>\n",
       "    <tr>\n",
       "      <th>4</th>\n",
       "      <td>1</td>\n",
       "      <td>13</td>\n",
       "      <td>2024-01-01</td>\n",
       "      <td>2715</td>\n",
       "      <td>2715</td>\n",
       "      <td>2715.0</td>\n",
       "    </tr>\n",
       "  </tbody>\n",
       "</table>\n",
       "</div>"
      ],
      "text/plain": [
       "   state  variety arrival_date  min_price  max_price  modal_price\n",
       "0      0        0   2024-01-01       2500       2590       2550.0\n",
       "1      1        8   2024-01-02       2370       2700       2535.0\n",
       "2      1       13   2024-01-02       2000       2550       2250.0\n",
       "3      1       13   2024-01-02       2415       2590       2500.0\n",
       "4      1       13   2024-01-01       2715       2715       2715.0"
      ]
     },
     "execution_count": 64,
     "metadata": {},
     "output_type": "execute_result"
    }
   ],
   "source": [
    "df.head()"
   ]
  },
  {
   "cell_type": "code",
   "execution_count": 65,
   "id": "2868fb25",
   "metadata": {},
   "outputs": [],
   "source": [
    "data = df[(df[\"min_price\"] < 2610 ) & (df[\"min_price\"] >= 2300)]"
   ]
  },
  {
   "cell_type": "code",
   "execution_count": 66,
   "id": "ddf54880",
   "metadata": {},
   "outputs": [
    {
     "data": {
      "text/html": [
       "<div>\n",
       "<style scoped>\n",
       "    .dataframe tbody tr th:only-of-type {\n",
       "        vertical-align: middle;\n",
       "    }\n",
       "\n",
       "    .dataframe tbody tr th {\n",
       "        vertical-align: top;\n",
       "    }\n",
       "\n",
       "    .dataframe thead th {\n",
       "        text-align: right;\n",
       "    }\n",
       "</style>\n",
       "<table border=\"1\" class=\"dataframe\">\n",
       "  <thead>\n",
       "    <tr style=\"text-align: right;\">\n",
       "      <th></th>\n",
       "      <th>state</th>\n",
       "      <th>variety</th>\n",
       "      <th>arrival_date</th>\n",
       "      <th>min_price</th>\n",
       "      <th>max_price</th>\n",
       "      <th>modal_price</th>\n",
       "    </tr>\n",
       "  </thead>\n",
       "  <tbody>\n",
       "    <tr>\n",
       "      <th>0</th>\n",
       "      <td>0</td>\n",
       "      <td>0</td>\n",
       "      <td>2024-01-01</td>\n",
       "      <td>2500</td>\n",
       "      <td>2590</td>\n",
       "      <td>2550.0</td>\n",
       "    </tr>\n",
       "    <tr>\n",
       "      <th>1</th>\n",
       "      <td>1</td>\n",
       "      <td>8</td>\n",
       "      <td>2024-01-02</td>\n",
       "      <td>2370</td>\n",
       "      <td>2700</td>\n",
       "      <td>2535.0</td>\n",
       "    </tr>\n",
       "    <tr>\n",
       "      <th>3</th>\n",
       "      <td>1</td>\n",
       "      <td>13</td>\n",
       "      <td>2024-01-02</td>\n",
       "      <td>2415</td>\n",
       "      <td>2590</td>\n",
       "      <td>2500.0</td>\n",
       "    </tr>\n",
       "    <tr>\n",
       "      <th>6</th>\n",
       "      <td>1</td>\n",
       "      <td>13</td>\n",
       "      <td>2024-01-02</td>\n",
       "      <td>2380</td>\n",
       "      <td>2730</td>\n",
       "      <td>2555.0</td>\n",
       "    </tr>\n",
       "    <tr>\n",
       "      <th>8</th>\n",
       "      <td>1</td>\n",
       "      <td>13</td>\n",
       "      <td>2024-01-02</td>\n",
       "      <td>2300</td>\n",
       "      <td>2725</td>\n",
       "      <td>2512.5</td>\n",
       "    </tr>\n",
       "  </tbody>\n",
       "</table>\n",
       "</div>"
      ],
      "text/plain": [
       "   state  variety arrival_date  min_price  max_price  modal_price\n",
       "0      0        0   2024-01-01       2500       2590       2550.0\n",
       "1      1        8   2024-01-02       2370       2700       2535.0\n",
       "3      1       13   2024-01-02       2415       2590       2500.0\n",
       "6      1       13   2024-01-02       2380       2730       2555.0\n",
       "8      1       13   2024-01-02       2300       2725       2512.5"
      ]
     },
     "execution_count": 66,
     "metadata": {},
     "output_type": "execute_result"
    }
   ],
   "source": [
    "data.head()"
   ]
  },
  {
   "cell_type": "code",
   "execution_count": 67,
   "id": "097f6c59",
   "metadata": {},
   "outputs": [
    {
     "data": {
      "text/plain": [
       "(282, 6)"
      ]
     },
     "execution_count": 67,
     "metadata": {},
     "output_type": "execute_result"
    }
   ],
   "source": [
    "data.shape"
   ]
  },
  {
   "cell_type": "code",
   "execution_count": 68,
   "id": "dab5ce7f",
   "metadata": {},
   "outputs": [
    {
     "data": {
      "text/plain": [
       "state           0\n",
       "variety         0\n",
       "arrival_date    0\n",
       "min_price       0\n",
       "max_price       0\n",
       "modal_price     0\n",
       "dtype: int64"
      ]
     },
     "execution_count": 68,
     "metadata": {},
     "output_type": "execute_result"
    }
   ],
   "source": [
    "data.isnull().sum()"
   ]
  },
  {
   "cell_type": "code",
   "execution_count": 69,
   "id": "ec05a67c",
   "metadata": {},
   "outputs": [
    {
     "data": {
      "text/plain": [
       "<Axes: >"
      ]
     },
     "execution_count": 69,
     "metadata": {},
     "output_type": "execute_result"
    },
    {
     "data": {
      "image/png": "[encoded data removed]",
      "text/plain": [
       "<Figure size 640x480 with 1 Axes>"
      ]
     },
     "metadata": {},
     "output_type": "display_data"
    }
   ],
   "source": [
    "sns.boxplot(data[\"min_price\"])"
   ]
  },
  {
   "cell_type": "code",
   "execution_count": 70,
   "id": "16eab900",
   "metadata": {},
   "outputs": [],
   "source": [
    "data = data[(data[\"max_price\"] < 2800 ) & (data[\"max_price\"] > 2300)]"
   ]
  },
  {
   "cell_type": "code",
   "execution_count": 71,
   "id": "dc04642f",
   "metadata": {},
   "outputs": [
    {
     "data": {
      "text/plain": [
       "(258, 6)"
      ]
     },
     "execution_count": 71,
     "metadata": {},
     "output_type": "execute_result"
    }
   ],
   "source": [
    "data.shape"
   ]
  },
  {
   "cell_type": "code",
   "execution_count": 72,
   "id": "20d58238",
   "metadata": {},
   "outputs": [
    {
     "data": {
      "text/plain": [
       "<Axes: >"
      ]
     },
     "execution_count": 72,
     "metadata": {},
     "output_type": "execute_result"
    },
    {
     "data": {
      "image/png": "[encoded data removed]",
      "text/plain": [
       "<Figure size 640x480 with 1 Axes>"
      ]
     },
     "metadata": {},
     "output_type": "display_data"
    }
   ],
   "source": [
    "sns.boxplot(data[\"max_price\"],color=\"green\")"
   ]
  },
  {
   "cell_type": "code",
   "execution_count": 73,
   "id": "4b5a9301",
   "metadata": {},
   "outputs": [],
   "source": [
    "data = data[(data[\"modal_price\"] < 2700 ) & (data[\"modal_price\"] >= 2300)]"
   ]
  },
  {
   "cell_type": "code",
   "execution_count": 74,
   "id": "353fae66",
   "metadata": {},
   "outputs": [
    {
     "data": {
      "text/plain": [
       "(257, 6)"
      ]
     },
     "execution_count": 74,
     "metadata": {},
     "output_type": "execute_result"
    }
   ],
   "source": [
    "data.shape"
   ]
  },
  {
   "cell_type": "code",
   "execution_count": 75,
   "id": "f0711767",
   "metadata": {},
   "outputs": [
    {
     "data": {
      "text/plain": [
       "<Axes: >"
      ]
     },
     "execution_count": 75,
     "metadata": {},
     "output_type": "execute_result"
    },
    {
     "data": {
      "image/png": "[encoded data removed]",
      "text/plain": [
       "<Figure size 640x480 with 1 Axes>"
      ]
     },
     "metadata": {},
     "output_type": "display_data"
    }
   ],
   "source": [
    "sns.boxplot(data[[\"min_price\", \"max_price\", \"modal_price\"]])"
   ]
  },
  {
   "cell_type": "code",
   "execution_count": 76,
   "id": "87b7beee",
   "metadata": {},
   "outputs": [
    {
     "data": {
      "text/plain": [
       "(257, 6)"
      ]
     },
     "execution_count": 76,
     "metadata": {},
     "output_type": "execute_result"
    }
   ],
   "source": [
    "data.shape"
   ]
  },
  {
   "cell_type": "code",
   "execution_count": 77,
   "id": "bea9e4ab",
   "metadata": {},
   "outputs": [
    {
     "data": {
      "text/plain": [
       "['state', 'variety']"
      ]
     },
     "execution_count": 77,
     "metadata": {},
     "output_type": "execute_result"
    }
   ],
   "source": [
    "# handling object feature\n",
    "cat_feature"
   ]
  },
  {
   "cell_type": "code",
   "execution_count": 78,
   "id": "ce4ec136",
   "metadata": {},
   "outputs": [],
   "source": [
    "for i in cat_feature:\n",
    "    data[i] = data[i].astype(\"int32\")"
   ]
  },
  {
   "cell_type": "code",
   "execution_count": 79,
   "id": "26cf94b7",
   "metadata": {},
   "outputs": [
    {
     "name": "stdout",
     "output_type": "stream",
     "text": [
      "<class 'pandas.core.frame.DataFrame'>\n",
      "Index: 257 entries, 0 to 382\n",
      "Data columns (total 6 columns):\n",
      " #   Column        Non-Null Count  Dtype         \n",
      "---  ------        --------------  -----         \n",
      " 0   state         257 non-null    int32         \n",
      " 1   variety       257 non-null    int32         \n",
      " 2   arrival_date  257 non-null    datetime64[ns]\n",
      " 3   min_price     257 non-null    int64         \n",
      " 4   max_price     257 non-null    int64         \n",
      " 5   modal_price   257 non-null    float64       \n",
      "dtypes: datetime64[ns](1), float64(1), int32(2), int64(2)\n",
      "memory usage: 12.0 KB\n"
     ]
    }
   ],
   "source": [
    "data.info()"
   ]
  },
  {
   "cell_type": "code",
   "execution_count": 80,
   "id": "ee010865",
   "metadata": {},
   "outputs": [],
   "source": [
    "cor = data.corr()"
   ]
  },
  {
   "cell_type": "code",
   "execution_count": 81,
   "id": "ed718bee",
   "metadata": {},
   "outputs": [
    {
     "data": {
      "text/plain": [
       "<Axes: >"
      ]
     },
     "execution_count": 81,
     "metadata": {},
     "output_type": "execute_result"
    },
    {
     "data": {
      "image/png": "[encoded data removed]",
      "text/plain": [
       "<Figure size 640x480 with 2 Axes>"
      ]
     },
     "metadata": {},
     "output_type": "display_data"
    }
   ],
   "source": [
    "sns.heatmap(cor, annot=True)"
   ]
  },
  {
   "cell_type": "code",
   "execution_count": 82,
   "id": "a7c5da43",
   "metadata": {},
   "outputs": [],
   "source": [
    "# dividing data into x and y \n",
    "x = data.drop([\"modal_price\", \"arrival_date\"], axis=1)\n",
    "y = data[\"modal_price\"]"
   ]
  },
  {
   "cell_type": "code",
   "execution_count": 83,
   "id": "267e7869",
   "metadata": {},
   "outputs": [
    {
     "data": {
      "text/plain": [
       "(257, 4)"
      ]
     },
     "execution_count": 83,
     "metadata": {},
     "output_type": "execute_result"
    }
   ],
   "source": [
    "x.shape"
   ]
  },
  {
   "cell_type": "code",
   "execution_count": 84,
   "id": "1dedce99",
   "metadata": {},
   "outputs": [
    {
     "data": {
      "text/plain": [
       "(257,)"
      ]
     },
     "execution_count": 84,
     "metadata": {},
     "output_type": "execute_result"
    }
   ],
   "source": [
    "y.shape"
   ]
  },
  {
   "cell_type": "code",
   "execution_count": 85,
   "id": "aef7b2df",
   "metadata": {},
   "outputs": [
    {
     "data": {
      "text/plain": [
       "0      2550.0\n",
       "1      2535.0\n",
       "3      2500.0\n",
       "6      2555.0\n",
       "8      2512.5\n",
       "        ...  \n",
       "375    2500.0\n",
       "376    2500.0\n",
       "377    2515.0\n",
       "378    2515.0\n",
       "382    2400.0\n",
       "Name: modal_price, Length: 257, dtype: float64"
      ]
     },
     "execution_count": 85,
     "metadata": {},
     "output_type": "execute_result"
    }
   ],
   "source": [
    "y"
   ]
  },
  {
   "cell_type": "code",
   "execution_count": 86,
   "id": "465a1cee",
   "metadata": {},
   "outputs": [],
   "source": [
    "# splitting our data into train and split\n",
    "x_train , x_test , y_train , y_test = train_test_split(x , y , test_size=0.2 , random_state=42)"
   ]
  },
  {
   "cell_type": "code",
   "execution_count": 87,
   "id": "f7729062",
   "metadata": {},
   "outputs": [
    {
     "data": {
      "text/plain": [
       "(205, 4)"
      ]
     },
     "execution_count": 87,
     "metadata": {},
     "output_type": "execute_result"
    }
   ],
   "source": [
    "x_train.shape"
   ]
  },
  {
   "cell_type": "code",
   "execution_count": 88,
   "id": "ff3cb0a3",
   "metadata": {},
   "outputs": [
    {
     "data": {
      "text/html": [
       "<div>\n",
       "<style scoped>\n",
       "    .dataframe tbody tr th:only-of-type {\n",
       "        vertical-align: middle;\n",
       "    }\n",
       "\n",
       "    .dataframe tbody tr th {\n",
       "        vertical-align: top;\n",
       "    }\n",
       "\n",
       "    .dataframe thead th {\n",
       "        text-align: right;\n",
       "    }\n",
       "</style>\n",
       "<table border=\"1\" class=\"dataframe\">\n",
       "  <thead>\n",
       "    <tr style=\"text-align: right;\">\n",
       "      <th></th>\n",
       "      <th>state</th>\n",
       "      <th>variety</th>\n",
       "      <th>min_price</th>\n",
       "      <th>max_price</th>\n",
       "    </tr>\n",
       "  </thead>\n",
       "  <tbody>\n",
       "    <tr>\n",
       "      <th>180</th>\n",
       "      <td>5</td>\n",
       "      <td>13</td>\n",
       "      <td>2310</td>\n",
       "      <td>2339</td>\n",
       "    </tr>\n",
       "    <tr>\n",
       "      <th>290</th>\n",
       "      <td>6</td>\n",
       "      <td>1</td>\n",
       "      <td>2380</td>\n",
       "      <td>2380</td>\n",
       "    </tr>\n",
       "    <tr>\n",
       "      <th>75</th>\n",
       "      <td>3</td>\n",
       "      <td>12</td>\n",
       "      <td>2475</td>\n",
       "      <td>2500</td>\n",
       "    </tr>\n",
       "    <tr>\n",
       "      <th>247</th>\n",
       "      <td>6</td>\n",
       "      <td>1</td>\n",
       "      <td>2450</td>\n",
       "      <td>2500</td>\n",
       "    </tr>\n",
       "    <tr>\n",
       "      <th>122</th>\n",
       "      <td>4</td>\n",
       "      <td>13</td>\n",
       "      <td>2450</td>\n",
       "      <td>2500</td>\n",
       "    </tr>\n",
       "  </tbody>\n",
       "</table>\n",
       "</div>"
      ],
      "text/plain": [
       "     state  variety  min_price  max_price\n",
       "180      5       13       2310       2339\n",
       "290      6        1       2380       2380\n",
       "75       3       12       2475       2500\n",
       "247      6        1       2450       2500\n",
       "122      4       13       2450       2500"
      ]
     },
     "execution_count": 88,
     "metadata": {},
     "output_type": "execute_result"
    }
   ],
   "source": [
    "x_train.head()"
   ]
  },
  {
   "cell_type": "code",
   "execution_count": 89,
   "id": "99c58596",
   "metadata": {},
   "outputs": [
    {
     "data": {
      "text/plain": [
       "(52, 4)"
      ]
     },
     "execution_count": 89,
     "metadata": {},
     "output_type": "execute_result"
    }
   ],
   "source": [
    "x_test.shape"
   ]
  },
  {
   "cell_type": "code",
   "execution_count": 90,
   "id": "fe34f87b",
   "metadata": {},
   "outputs": [],
   "source": [
    "lg = LinearRegression()\n",
    "lg.fit(x_train , y_train)\n",
    "y_pred_lg = lg.predict(x_test)"
   ]
  },
  {
   "cell_type": "code",
   "execution_count": 91,
   "id": "d47dcbc2",
   "metadata": {},
   "outputs": [
    {
     "data": {
      "text/plain": [
       "0.7222995631403841"
      ]
     },
     "execution_count": 91,
     "metadata": {},
     "output_type": "execute_result"
    }
   ],
   "source": [
    "lg.score(x_test , y_test)"
   ]
  },
  {
   "cell_type": "code",
   "execution_count": 92,
   "id": "99fcc3de",
   "metadata": {},
   "outputs": [],
   "source": [
    "dt = DecisionTreeRegressor()\n",
    "dt.fit(x_train , y_train)\n",
    "y_pred_dt = dt.predict(x_test)"
   ]
  },
  {
   "cell_type": "code",
   "execution_count": 93,
   "id": "304a358d",
   "metadata": {},
   "outputs": [
    {
     "data": {
      "text/plain": [
       "0.49077220652234244"
      ]
     },
     "execution_count": 93,
     "metadata": {},
     "output_type": "execute_result"
    }
   ],
   "source": [
    "dt.score(x_test , y_test)"
   ]
  },
  {
   "cell_type": "code",
   "execution_count": 94,
   "id": "08ef9893",
   "metadata": {},
   "outputs": [],
   "source": [
    "rf = RandomForestRegressor()\n",
    "rf.fit(x_train , y_train)\n",
    "y_pred_rf = rf.predict(x_test)"
   ]
  },
  {
   "cell_type": "code",
   "execution_count": 95,
   "id": "765aa14d",
   "metadata": {},
   "outputs": [
    {
     "data": {
      "text/plain": [
       "0.7669188277326184"
      ]
     },
     "execution_count": 95,
     "metadata": {},
     "output_type": "execute_result"
    }
   ],
   "source": [
    "rf.score(x_test , y_test)"
   ]
  },
  {
   "cell_type": "markdown",
   "id": "dab0146b",
   "metadata": {},
   "source": [
    "### Hyper-para-meter tunning"
   ]
  },
  {
   "cell_type": "code",
   "execution_count": 96,
   "id": "b2636d17",
   "metadata": {},
   "outputs": [
    {
     "name": "stdout",
     "output_type": "stream",
     "text": [
      "{'n_estimators': [10, 64, 118, 173, 227, 282, 336, 391, 445, 500], 'max_features': ['auto', 'sqrt'], 'max_depth': [10, 20, 30, 40, 50, 60, 70, 80, 90, 100, 110, None], 'min_samples_split': [2, 5, 10], 'min_samples_leaf': [1, 2, 4], 'bootstrap': [True, False]}\n"
     ]
    }
   ],
   "source": [
    "# Number of trees in random forest\n",
    "n_estimators = [int(x) for x in np.linspace(start = 10, stop = 500, num = 10)]\n",
    "# Number of features to consider at every split\n",
    "max_features = ['auto', 'sqrt']\n",
    "# Maximum number of levels in tree\n",
    "max_depth = [int(x) for x in np.linspace(10, 110, num = 11)]\n",
    "max_depth.append(None)\n",
    "# Minimum number of samples required to split a node\n",
    "min_samples_split = [2, 5, 10]\n",
    "# Minimum number of samples required at each leaf node\n",
    "min_samples_leaf = [1, 2, 4]\n",
    "# Method of selecting samples for training each tree\n",
    "bootstrap = [True, False]\n",
    "# Create the random grid\n",
    "param_grid = {'n_estimators': n_estimators,\n",
    "               'max_features': max_features,\n",
    "               'max_depth': max_depth,\n",
    "               'min_samples_split': min_samples_split,\n",
    "               'min_samples_leaf': min_samples_leaf,\n",
    "               'bootstrap': bootstrap}\n",
    "print(param_grid)"
   ]
  },
  {
   "cell_type": "code",
   "execution_count": 97,
   "id": "10de5496",
   "metadata": {},
   "outputs": [],
   "source": [
    "rf = RandomForestRegressor()\n",
    "\n",
    "grid_search = GridSearchCV(estimator=rf , param_grid=param_grid ,cv=3)"
   ]
  },
  {
   "cell_type": "code",
   "execution_count": 98,
   "id": "4ba28d05",
   "metadata": {},
   "outputs": [
    {
     "data": {
      "text/html": [
       "<style>#sk-container-id-1 {color: black;}#sk-container-id-1 pre{padding: 0;}#sk-container-id-1 div.sk-toggleable {background-color: white;}#sk-container-id-1 label.sk-toggleable__label {cursor: pointer;display: block;width: 100%;margin-bottom: 0;padding: 0.3em;box-sizing: border-box;text-align: center;}#sk-container-id-1 label.sk-toggleable__label-arrow:before {content: \"▸\";float: left;margin-right: 0.25em;color: #696969;}#sk-container-id-1 label.sk-toggleable__label-arrow:hover:before {color: black;}#sk-container-id-1 div.sk-estimator:hover label.sk-toggleable__label-arrow:before {color: black;}#sk-container-id-1 div.sk-toggleable__content {max-height: 0;max-width: 0;overflow: hidden;text-align: left;background-color: #f0f8ff;}#sk-container-id-1 div.sk-toggleable__content pre {margin: 0.2em;color: black;border-radius: 0.25em;background-color: #f0f8ff;}#sk-container-id-1 input.sk-toggleable__control:checked~div.sk-toggleable__content {max-height: 200px;max-width: 100%;overflow: auto;}#sk-container-id-1 input.sk-toggleable__control:checked~label.sk-toggleable__label-arrow:before {content: \"▾\";}#sk-container-id-1 div.sk-estimator input.sk-toggleable__control:checked~label.sk-toggleable__label {background-color: #d4ebff;}#sk-container-id-1 div.sk-label input.sk-toggleable__control:checked~label.sk-toggleable__label {background-color: #d4ebff;}#sk-container-id-1 input.sk-hidden--visually {border: 0;clip: rect(1px 1px 1px 1px);clip: rect(1px, 1px, 1px, 1px);height: 1px;margin: -1px;overflow: hidden;padding: 0;position: absolute;width: 1px;}#sk-container-id-1 div.sk-estimator {font-family: monospace;background-color: #f0f8ff;border: 1px dotted black;border-radius: 0.25em;box-sizing: border-box;margin-bottom: 0.5em;}#sk-container-id-1 div.sk-estimator:hover {background-color: #d4ebff;}#sk-container-id-1 div.sk-parallel-item::after {content: \"\";width: 100%;border-bottom: 1px solid gray;flex-grow: 1;}#sk-container-id-1 div.sk-label:hover label.sk-toggleable__label {background-color: #d4ebff;}#sk-container-id-1 div.sk-serial::before {content: \"\";position: absolute;border-left: 1px solid gray;box-sizing: border-box;top: 0;bottom: 0;left: 50%;z-index: 0;}#sk-container-id-1 div.sk-serial {display: flex;flex-direction: column;align-items: center;background-color: white;padding-right: 0.2em;padding-left: 0.2em;position: relative;}#sk-container-id-1 div.sk-item {position: relative;z-index: 1;}#sk-container-id-1 div.sk-parallel {display: flex;align-items: stretch;justify-content: center;background-color: white;position: relative;}#sk-container-id-1 div.sk-item::before, #sk-container-id-1 div.sk-parallel-item::before {content: \"\";position: absolute;border-left: 1px solid gray;box-sizing: border-box;top: 0;bottom: 0;left: 50%;z-index: -1;}#sk-container-id-1 div.sk-parallel-item {display: flex;flex-direction: column;z-index: 1;position: relative;background-color: white;}#sk-container-id-1 div.sk-parallel-item:first-child::after {align-self: flex-end;width: 50%;}#sk-container-id-1 div.sk-parallel-item:last-child::after {align-self: flex-start;width: 50%;}#sk-container-id-1 div.sk-parallel-item:only-child::after {width: 0;}#sk-container-id-1 div.sk-dashed-wrapped {border: 1px dashed gray;margin: 0 0.4em 0.5em 0.4em;box-sizing: border-box;padding-bottom: 0.4em;background-color: white;}#sk-container-id-1 div.sk-label label {font-family: monospace;font-weight: bold;display: inline-block;line-height: 1.2em;}#sk-container-id-1 div.sk-label-container {text-align: center;}#sk-container-id-1 div.sk-container {/* jupyter's `normalize.less` sets `[hidden] { display: none; }` but bootstrap.min.css set `[hidden] { display: none !important; }` so we also need the `!important` here to be able to override the default hidden behavior on the sphinx rendered scikit-learn.org. See: https://github.com/scikit-learn/scikit-learn/issues/21755 */display: inline-block !important;position: relative;}#sk-container-id-1 div.sk-text-repr-fallback {display: none;}</style><div id=\"sk-container-id-1\" class=\"sk-top-container\"><div class=\"sk-text-repr-fallback\"><pre>GridSearchCV(cv=3, estimator=RandomForestRegressor(),\n",
       "             param_grid={&#x27;bootstrap&#x27;: [True, False],\n",
       "                         &#x27;max_depth&#x27;: [10, 20, 30, 40, 50, 60, 70, 80, 90, 100,\n",
       "                                       110, None],\n",
       "                         &#x27;max_features&#x27;: [&#x27;auto&#x27;, &#x27;sqrt&#x27;],\n",
       "                         &#x27;min_samples_leaf&#x27;: [1, 2, 4],\n",
       "                         &#x27;min_samples_split&#x27;: [2, 5, 10],\n",
       "                         &#x27;n_estimators&#x27;: [10, 64, 118, 173, 227, 282, 336, 391,\n",
       "                                          445, 500]})</pre><b>In a Jupyter environment, please rerun this cell to show the HTML representation or trust the notebook. <br />On GitHub, the HTML representation is unable to render, please try loading this page with nbviewer.org.</b></div><div class=\"sk-container\" hidden><div class=\"sk-item sk-dashed-wrapped\"><div class=\"sk-label-container\"><div class=\"sk-label sk-toggleable\"><input class=\"sk-toggleable__control sk-hidden--visually\" id=\"sk-estimator-id-1\" type=\"checkbox\" ><label for=\"sk-estimator-id-1\" class=\"sk-toggleable__label sk-toggleable__label-arrow\">GridSearchCV</label><div class=\"sk-toggleable__content\"><pre>GridSearchCV(cv=3, estimator=RandomForestRegressor(),\n",
       "             param_grid={&#x27;bootstrap&#x27;: [True, False],\n",
       "                         &#x27;max_depth&#x27;: [10, 20, 30, 40, 50, 60, 70, 80, 90, 100,\n",
       "                                       110, None],\n",
       "                         &#x27;max_features&#x27;: [&#x27;auto&#x27;, &#x27;sqrt&#x27;],\n",
       "                         &#x27;min_samples_leaf&#x27;: [1, 2, 4],\n",
       "                         &#x27;min_samples_split&#x27;: [2, 5, 10],\n",
       "                         &#x27;n_estimators&#x27;: [10, 64, 118, 173, 227, 282, 336, 391,\n",
       "                                          445, 500]})</pre></div></div></div><div class=\"sk-parallel\"><div class=\"sk-parallel-item\"><div class=\"sk-item\"><div class=\"sk-label-container\"><div class=\"sk-label sk-toggleable\"><input class=\"sk-toggleable__control sk-hidden--visually\" id=\"sk-estimator-id-2\" type=\"checkbox\" ><label for=\"sk-estimator-id-2\" class=\"sk-toggleable__label sk-toggleable__label-arrow\">estimator: RandomForestRegressor</label><div class=\"sk-toggleable__content\"><pre>RandomForestRegressor()</pre></div></div></div><div class=\"sk-serial\"><div class=\"sk-item\"><div class=\"sk-estimator sk-toggleable\"><input class=\"sk-toggleable__control sk-hidden--visually\" id=\"sk-estimator-id-3\" type=\"checkbox\" ><label for=\"sk-estimator-id-3\" class=\"sk-toggleable__label sk-toggleable__label-arrow\">RandomForestRegressor</label><div class=\"sk-toggleable__content\"><pre>RandomForestRegressor()</pre></div></div></div></div></div></div></div></div></div></div>"
      ],
      "text/plain": [
       "GridSearchCV(cv=3, estimator=RandomForestRegressor(),\n",
       "             param_grid={'bootstrap': [True, False],\n",
       "                         'max_depth': [10, 20, 30, 40, 50, 60, 70, 80, 90, 100,\n",
       "                                       110, None],\n",
       "                         'max_features': ['auto', 'sqrt'],\n",
       "                         'min_samples_leaf': [1, 2, 4],\n",
       "                         'min_samples_split': [2, 5, 10],\n",
       "                         'n_estimators': [10, 64, 118, 173, 227, 282, 336, 391,\n",
       "                                          445, 500]})"
      ]
     },
     "execution_count": 98,
     "metadata": {},
     "output_type": "execute_result"
    }
   ],
   "source": [
    "grid_search.fit(x_train , y_train)"
   ]
  },
  {
   "cell_type": "code",
   "execution_count": 99,
   "id": "b4c4f58f",
   "metadata": {},
   "outputs": [
    {
     "data": {
      "text/html": [
       "<style>#sk-container-id-2 {color: black;}#sk-container-id-2 pre{padding: 0;}#sk-container-id-2 div.sk-toggleable {background-color: white;}#sk-container-id-2 label.sk-toggleable__label {cursor: pointer;display: block;width: 100%;margin-bottom: 0;padding: 0.3em;box-sizing: border-box;text-align: center;}#sk-container-id-2 label.sk-toggleable__label-arrow:before {content: \"▸\";float: left;margin-right: 0.25em;color: #696969;}#sk-container-id-2 label.sk-toggleable__label-arrow:hover:before {color: black;}#sk-container-id-2 div.sk-estimator:hover label.sk-toggleable__label-arrow:before {color: black;}#sk-container-id-2 div.sk-toggleable__content {max-height: 0;max-width: 0;overflow: hidden;text-align: left;background-color: #f0f8ff;}#sk-container-id-2 div.sk-toggleable__content pre {margin: 0.2em;color: black;border-radius: 0.25em;background-color: #f0f8ff;}#sk-container-id-2 input.sk-toggleable__control:checked~div.sk-toggleable__content {max-height: 200px;max-width: 100%;overflow: auto;}#sk-container-id-2 input.sk-toggleable__control:checked~label.sk-toggleable__label-arrow:before {content: \"▾\";}#sk-container-id-2 div.sk-estimator input.sk-toggleable__control:checked~label.sk-toggleable__label {background-color: #d4ebff;}#sk-container-id-2 div.sk-label input.sk-toggleable__control:checked~label.sk-toggleable__label {background-color: #d4ebff;}#sk-container-id-2 input.sk-hidden--visually {border: 0;clip: rect(1px 1px 1px 1px);clip: rect(1px, 1px, 1px, 1px);height: 1px;margin: -1px;overflow: hidden;padding: 0;position: absolute;width: 1px;}#sk-container-id-2 div.sk-estimator {font-family: monospace;background-color: #f0f8ff;border: 1px dotted black;border-radius: 0.25em;box-sizing: border-box;margin-bottom: 0.5em;}#sk-container-id-2 div.sk-estimator:hover {background-color: #d4ebff;}#sk-container-id-2 div.sk-parallel-item::after {content: \"\";width: 100%;border-bottom: 1px solid gray;flex-grow: 1;}#sk-container-id-2 div.sk-label:hover label.sk-toggleable__label {background-color: #d4ebff;}#sk-container-id-2 div.sk-serial::before {content: \"\";position: absolute;border-left: 1px solid gray;box-sizing: border-box;top: 0;bottom: 0;left: 50%;z-index: 0;}#sk-container-id-2 div.sk-serial {display: flex;flex-direction: column;align-items: center;background-color: white;padding-right: 0.2em;padding-left: 0.2em;position: relative;}#sk-container-id-2 div.sk-item {position: relative;z-index: 1;}#sk-container-id-2 div.sk-parallel {display: flex;align-items: stretch;justify-content: center;background-color: white;position: relative;}#sk-container-id-2 div.sk-item::before, #sk-container-id-2 div.sk-parallel-item::before {content: \"\";position: absolute;border-left: 1px solid gray;box-sizing: border-box;top: 0;bottom: 0;left: 50%;z-index: -1;}#sk-container-id-2 div.sk-parallel-item {display: flex;flex-direction: column;z-index: 1;position: relative;background-color: white;}#sk-container-id-2 div.sk-parallel-item:first-child::after {align-self: flex-end;width: 50%;}#sk-container-id-2 div.sk-parallel-item:last-child::after {align-self: flex-start;width: 50%;}#sk-container-id-2 div.sk-parallel-item:only-child::after {width: 0;}#sk-container-id-2 div.sk-dashed-wrapped {border: 1px dashed gray;margin: 0 0.4em 0.5em 0.4em;box-sizing: border-box;padding-bottom: 0.4em;background-color: white;}#sk-container-id-2 div.sk-label label {font-family: monospace;font-weight: bold;display: inline-block;line-height: 1.2em;}#sk-container-id-2 div.sk-label-container {text-align: center;}#sk-container-id-2 div.sk-container {/* jupyter's `normalize.less` sets `[hidden] { display: none; }` but bootstrap.min.css set `[hidden] { display: none !important; }` so we also need the `!important` here to be able to override the default hidden behavior on the sphinx rendered scikit-learn.org. See: https://github.com/scikit-learn/scikit-learn/issues/21755 */display: inline-block !important;position: relative;}#sk-container-id-2 div.sk-text-repr-fallback {display: none;}</style><div id=\"sk-container-id-2\" class=\"sk-top-container\"><div class=\"sk-text-repr-fallback\"><pre>RandomForestRegressor(max_depth=90, max_features=&#x27;sqrt&#x27;, min_samples_leaf=2,\n",
       "                      min_samples_split=5, n_estimators=10)</pre><b>In a Jupyter environment, please rerun this cell to show the HTML representation or trust the notebook. <br />On GitHub, the HTML representation is unable to render, please try loading this page with nbviewer.org.</b></div><div class=\"sk-container\" hidden><div class=\"sk-item\"><div class=\"sk-estimator sk-toggleable\"><input class=\"sk-toggleable__control sk-hidden--visually\" id=\"sk-estimator-id-4\" type=\"checkbox\" checked><label for=\"sk-estimator-id-4\" class=\"sk-toggleable__label sk-toggleable__label-arrow\">RandomForestRegressor</label><div class=\"sk-toggleable__content\"><pre>RandomForestRegressor(max_depth=90, max_features=&#x27;sqrt&#x27;, min_samples_leaf=2,\n",
       "                      min_samples_split=5, n_estimators=10)</pre></div></div></div></div></div>"
      ],
      "text/plain": [
       "RandomForestRegressor(max_depth=90, max_features='sqrt', min_samples_leaf=2,\n",
       "                      min_samples_split=5, n_estimators=10)"
      ]
     },
     "execution_count": 99,
     "metadata": {},
     "output_type": "execute_result"
    }
   ],
   "source": [
    "grid_search.best_estimator_"
   ]
  },
  {
   "cell_type": "code",
   "execution_count": 100,
   "id": "b552b431",
   "metadata": {},
   "outputs": [
    {
     "data": {
      "text/plain": [
       "{'bootstrap': True,\n",
       " 'max_depth': 90,\n",
       " 'max_features': 'sqrt',\n",
       " 'min_samples_leaf': 2,\n",
       " 'min_samples_split': 5,\n",
       " 'n_estimators': 10}"
      ]
     },
     "execution_count": 100,
     "metadata": {},
     "output_type": "execute_result"
    }
   ],
   "source": [
    "grid_search.best_params_"
   ]
  },
  {
   "cell_type": "code",
   "execution_count": 103,
   "id": "8ee93852",
   "metadata": {},
   "outputs": [],
   "source": [
    "grid_predict = grid_search.predict(x_test)"
   ]
  },
  {
   "cell_type": "code",
   "execution_count": 104,
   "id": "92149851",
   "metadata": {},
   "outputs": [
    {
     "data": {
      "text/plain": [
       "0.7922545002890466"
      ]
     },
     "execution_count": 104,
     "metadata": {},
     "output_type": "execute_result"
    }
   ],
   "source": [
    "grid_search.score(x_test , y_test)"
   ]
  },
  {
   "cell_type": "code",
   "execution_count": 110,
   "id": "edf8bf71",
   "metadata": {},
   "outputs": [],
   "source": [
    "import pickle\n",
    "\n",
    "pickle.dump(grid_search , open(\"rf_model.pkl\", \"wb\"))"
   ]
  },
  {
   "cell_type": "code",
   "execution_count": null,
   "id": "db118b30",
   "metadata": {},
   "outputs": [],
   "source": []
  }
 ],
 "metadata": {
  "kernelspec": {
   "display_name": "Python 3 (ipykernel)",
   "language": "python",
   "name": "python3"
  },
  "language_info": {
   "codemirror_mode": {
    "name": "ipython",
    "version": 3
   },
   "file_extension": ".py",
   "mimetype": "text/x-python",
   "name": "python",
   "nbconvert_exporter": "python",
   "pygments_lexer": "ipython3",
   "version": "3.11.5"
  }
 },
 "nbformat": 4,
 "nbformat_minor": 5
}
